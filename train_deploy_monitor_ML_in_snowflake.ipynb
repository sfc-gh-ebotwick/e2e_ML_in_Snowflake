{
 "cells": [
  {
   "cell_type": "markdown",
   "id": "e79ae8e5-aec2-4276-9443-074c3a614142",
   "metadata": {
    "collapsed": false,
    "name": "INTRO_MD"
   },
   "source": [
    "# ❄️ End-to-end ML OPs Demo ❄️\n",
    "In this worfklow we will work through the following\n",
    "- Use Feature Store to track engineered features\n",
    "    - Store feature defintions in feature store for reproducible computation of ML features\n",
    "- Train two SnowML Models\n",
    "    - Xgboost with tree booster\n",
    "    - Xgboost with linear booster\n",
    "- Register both models in Snowflake model registry\n",
    "    - Explore model registry capabilities such as metadata tracking, inference, and explainability\n",
    "- Set up Model Monitor to track 1 year of predicted and actual loan repayments\n",
    "    - Compute performance metrics such a F1, Precision, Recall\n",
    "    - Inspect model drift (i.e. how much has the average predicted repayment rate changed day-to-day)\n",
    "    - Compare models side-by-side to understand which model should be used in production\n",
    "    - Identify and understand data issues\n",
    "- Track data and model lineage throughout\n",
    "    - View and understand\n",
    "      - The origin of the data used for computed features\n",
    "      - The data used for model training\n",
    "      - The available model versions being monitored"
   ]
  },
  {
   "cell_type": "markdown",
   "metadata": {},
   "source": [
    "this is an update"
   ]
  },
  {
   "cell_type": "code",
   "execution_count": null,
   "id": "a2512cb5-15ae-40b2-84c7-8a44a9979670",
   "metadata": {
    "collapsed": false,
    "language": "python",
    "name": "pip_installs"
   },
   "outputs": [],
   "source": [
    "!pip install shap"
   ]
  },
  {
   "cell_type": "code",
   "execution_count": null,
   "id": "d78265b8-8baa-4136-a32a-32f3f620949d",
   "metadata": {
    "codeCollapsed": false,
    "collapsed": false,
    "language": "python",
    "name": "set_version_num"
   },
   "outputs": [],
   "source": [
    "VERSION_NUM = 'test2'"
   ]
  },
  {
   "cell_type": "code",
   "execution_count": 1,
   "id": "ce110000-1111-2222-3333-ffffff000000",
   "metadata": {
    "codeCollapsed": false,
    "collapsed": false,
    "language": "python",
    "name": "imports_and_session",
    "resultHeight": 84
   },
   "outputs": [],
   "source": [
    "import pandas as pd\n",
    "import numpy as np\n",
    "import sklearn\n",
    "import math\n",
    "import pickle\n",
    "import datetime\n",
    "import shap\n",
    "\n",
    "# Snowpark ML\n",
    "from snowflake.ml.modeling.xgboost import XGBRegressor, XGBClassifier\n",
    "from snowflake.ml._internal.utils import identifier\n",
    "from snowflake.ml.registry import Registry\n",
    "\n",
    "#Snowflake feature store\n",
    "from snowflake.ml.feature_store import FeatureStore, FeatureView, Entity, CreationMode\n",
    "\n",
    "# Snowpark session\n",
    "from snowflake.snowpark import DataFrame\n",
    "from snowflake.snowpark.functions import col, to_timestamp, min, max, month, dayofmonth, dayofweek, avg, median\n",
    "from snowflake.snowpark.types import IntegerType\n",
    "from snowflake.snowpark import Window\n",
    "\n",
    "\n",
    "\n",
    "\n",
    "# We can also use Snowpark for our analyses!\n",
    "from snowflake.snowpark.context import get_active_session\n",
    "session = get_active_session()\n",
    "session"
   ]
  },
  {
   "cell_type": "code",
   "execution_count": null,
   "id": "f8900d1d-a1f2-419b-ae7e-b194f268d904",
   "metadata": {
    "codeCollapsed": false,
    "collapsed": false,
    "language": "python",
    "name": "read_raw_data",
    "resultHeight": 223
   },
   "outputs": [],
   "source": [
    "try:\n",
    "    print(\"Reading table data...\")\n",
    "    df = session.table(\"MORTGAGE_LENDING_DEMO_DATA\")\n",
    "    df.show(5)\n",
    "except:\n",
    "    print(\"Table not found! Uploading data to snowflake table\")\n",
    "    df_pandas = pd.read_csv(\"MORTGAGE_LENDING_DEMO_DATA.csv.zip\")\n",
    "    session.write_pandas(df_pandas, \"MORTGAGE_LENDING_DEMO_DATA\", auto_create_table=True)\n",
    "    df = session.table(\"MORTGAGE_LENDING_DEMO_DATA\")\n",
    "    df.show(5)"
   ]
  },
  {
   "cell_type": "code",
   "execution_count": null,
   "id": "a6654de7-6407-4ffe-a214-fd66078397ef",
   "metadata": {
    "codeCollapsed": false,
    "collapsed": false,
    "language": "python",
    "name": "see_timespan",
    "resultHeight": 111
   },
   "outputs": [],
   "source": [
    "df.select(min('TS'), max('TS'))"
   ]
  },
  {
   "cell_type": "code",
   "execution_count": null,
   "id": "b355c0c4-9dc6-4faf-86b7-24d8d559e453",
   "metadata": {
    "codeCollapsed": false,
    "collapsed": false,
    "language": "python",
    "name": "define_features",
    "resultHeight": 0
   },
   "outputs": [],
   "source": [
    "#Create a dict with keys for feature names and values containing transform code\n",
    "\n",
    "feature_eng_dict = dict()\n",
    "\n",
    "#Timstamp features\n",
    "feature_eng_dict[\"TIMESTAMP\"] = to_timestamp(\"TS\")\n",
    "feature_eng_dict[\"MONTH\"] = month(\"TIMESTAMP\")\n",
    "feature_eng_dict[\"DAY\"] = dayofmonth(\"TIMESTAMP\") \n",
    "feature_eng_dict[\"DOTW\"] = dayofweek(\"TIMESTAMP\")\n",
    "\n",
    "df= df.with_columns(feature_eng_dict.keys(), feature_eng_dict.values())\n",
    "\n",
    "#Income and loan features\n",
    "feature_eng_dict[\"LOAN_AMOUNT\"] = col(\"LOAN_AMOUNT_000s\")*1000\n",
    "feature_eng_dict[\"INCOME\"] = col(\"APPLICANT_INCOME_000s\")*1000\n",
    "feature_eng_dict[\"INCOME_LOAN_RATIO\"] = col(\"INCOME\")/col(\"LOAN_AMOUNT\")\n",
    "\n",
    "window_spec = Window.partition_by(\"COUNTY_NAME\")\n",
    "feature_eng_dict[\"MEDIAN_COUNTY_INCOME\"] = median(\"INCOME\").over(window_spec)\n",
    "feature_eng_dict[\"HIGH_INCOME_FLAG\"] = (col(\"INCOME\")>col(\"MEDIAN_COUNTY_INCOME\")).astype(IntegerType())\n",
    "\n",
    "\n",
    "df = df.with_columns(feature_eng_dict.keys(), feature_eng_dict.values())\n",
    "df.show(3)"
   ]
  },
  {
   "cell_type": "code",
   "execution_count": null,
   "id": "b6c4ead8-25ac-46cc-9bd9-17eac2f796d5",
   "metadata": {
    "codeCollapsed": false,
    "collapsed": false,
    "language": "python",
    "name": "df_explain",
    "resultHeight": 312
   },
   "outputs": [],
   "source": [
    "print(df.explain())"
   ]
  },
  {
   "cell_type": "code",
   "execution_count": null,
   "id": "abacdc71-9f2c-419f-8d50-3e8f89be367f",
   "metadata": {
    "codeCollapsed": false,
    "collapsed": false,
    "language": "python",
    "name": "define_feature_store",
    "resultHeight": 0
   },
   "outputs": [],
   "source": [
    "fs = FeatureStore(\n",
    "    session=session, \n",
    "    database=session.get_current_database(), \n",
    "    name=session.get_current_schema(), \n",
    "    default_warehouse=session.get_current_warehouse(),\n",
    "    creation_mode=CreationMode.CREATE_IF_NOT_EXIST\n",
    ")"
   ]
  },
  {
   "cell_type": "code",
   "execution_count": null,
   "id": "67480d6a-183f-4373-aaa8-d3ed8e80e11d",
   "metadata": {
    "codeCollapsed": false,
    "collapsed": false,
    "language": "python",
    "name": "list_entities",
    "resultHeight": 111
   },
   "outputs": [],
   "source": [
    "fs.list_entities()"
   ]
  },
  {
   "cell_type": "code",
   "execution_count": null,
   "id": "e91d6d39-7819-4825-8729-a3f19ca5cdf7",
   "metadata": {
    "codeCollapsed": false,
    "collapsed": false,
    "language": "python",
    "name": "load_or_register_entity",
    "resultHeight": 38
   },
   "outputs": [],
   "source": [
    "#First try to retrieve an existing entity definition, if not define a new one and register\n",
    "try:\n",
    "    #retrieve existing entity\n",
    "    loan_id_entity = fs.get_entity('LOAN_ENTITY') \n",
    "    print('Retrieved existing entity')\n",
    "except:\n",
    "#define new entity\n",
    "    loan_id_entity = Entity(\n",
    "        name = \"LOAN_ENTITY\",\n",
    "        join_keys = [\"LOAN_ID\"],\n",
    "        desc = \"Features defined on a per loan level - expanded FE\")\n",
    "    #register\n",
    "    fs.register_entity(loan_id_entity)\n",
    "    print(\"Registered new entity\")"
   ]
  },
  {
   "cell_type": "code",
   "execution_count": null,
   "id": "2820463f-0ea7-43ea-a500-9b034011887d",
   "metadata": {
    "codeCollapsed": false,
    "collapsed": false,
    "language": "python",
    "name": "create_feature_df",
    "resultHeight": 217
   },
   "outputs": [],
   "source": [
    "#Create a dataframe with just the ID, timestamp, and engineered features. We will use this to define our feature view\n",
    "feature_df = df.select([\"LOAN_ID\"]+list(feature_eng_dict.keys()))\n",
    "feature_df.show(5)"
   ]
  },
  {
   "cell_type": "code",
   "execution_count": null,
   "id": "2b53364f-90c4-45b4-94ee-b2fde6f93475",
   "metadata": {
    "codeCollapsed": false,
    "collapsed": false,
    "language": "python",
    "name": "feature_veiw_creation",
    "resultHeight": 0
   },
   "outputs": [],
   "source": [
    "#define and register feature view\n",
    "loan_fv = FeatureView(\n",
    "    name=\"Mortgage_Feature_View\",\n",
    "    entities=[loan_id_entity],\n",
    "    feature_df=feature_df,\n",
    "    timestamp_col=\"TIMESTAMP\")\n",
    "\n",
    "loan_fv = fs.register_feature_view(loan_fv, version=VERSION_NUM, overwrite=True)"
   ]
  },
  {
   "cell_type": "code",
   "execution_count": null,
   "id": "18c3225b-b936-4aa7-81f2-27bbaeee1c0f",
   "metadata": {
    "codeCollapsed": false,
    "collapsed": false,
    "language": "python",
    "name": "show_feature_views",
    "resultHeight": 111
   },
   "outputs": [],
   "source": [
    "fs.list_feature_views()"
   ]
  },
  {
   "cell_type": "code",
   "execution_count": null,
   "id": "535efc80-e4fc-41c5-98eb-5b5450bcf199",
   "metadata": {
    "codeCollapsed": false,
    "collapsed": false,
    "language": "python",
    "name": "generate_dataset",
    "resultHeight": 0
   },
   "outputs": [],
   "source": [
    "ds = fs.generate_dataset(\n",
    "    name=f\"MORTGAGE_DATASET_EXTENDED_FEATURES_{VERSION_NUM}\",\n",
    "    spine_df=df.drop(\"TS\", \"MONTH\", \"DAY\", \"DOTW\", \"LOAN_AMOUNT_000S\", \"LOAN_AMOUNT\", \"APPLICANT_INCOME_000S\", \"INCOME\", \"INCOME_LOAN_RATIO\", \"MEDIAN_COUNTY_INCOME\", \"HIGH_INCOME_FLAG\", \"LOAN_TYPE_NAME\", \"COUNTY_NAME\"), #only need the features used to fetch rest of feature view\n",
    "    features=[loan_fv],\n",
    "    spine_timestamp_col=\"TIMESTAMP\",\n",
    "    spine_label_cols=[\"MORTGAGERESPONSE\"]\n",
    ")"
   ]
  },
  {
   "cell_type": "code",
   "execution_count": null,
   "id": "ecdaa537-3fb9-476c-9153-3236edfdfcb3",
   "metadata": {
    "codeCollapsed": false,
    "collapsed": false,
    "language": "python",
    "name": "convert_dataset_to_snowpark_and_pandas",
    "resultHeight": 239
   },
   "outputs": [],
   "source": [
    "ds_sp = ds.read.to_snowpark_dataframe()\n",
    "ds_sp.show(5)"
   ]
  },
  {
   "cell_type": "code",
   "execution_count": null,
   "id": "b5e17036-7a69-4915-b025-49c900aeb46b",
   "metadata": {
    "codeCollapsed": false,
    "collapsed": false,
    "language": "python",
    "name": "one_hot_encoding",
    "resultHeight": 360
   },
   "outputs": [],
   "source": [
    "import snowflake.ml.modeling.preprocessing as snowml\n",
    "from snowflake.snowpark.types import StringType\n",
    "\n",
    "OHE_COLS = ds_sp.select([col.name for col in ds_sp.schema if col.datatype ==StringType()]).columns\n",
    "OHE_POST_COLS = [i+\"_OHE\" for i in OHE_COLS]\n",
    "\n",
    "\n",
    "# Encode categoricals to numeric columns\n",
    "snowml_ohe = snowml.OneHotEncoder(input_cols=OHE_COLS, output_cols = OHE_COLS, drop_input_cols=True)\n",
    "ds_sp_ohe = snowml_ohe.fit(ds_sp).transform(ds_sp)\n",
    "ds_sp_ohe.columns"
   ]
  },
  {
   "cell_type": "code",
   "execution_count": null,
   "id": "d834f6f3-ce15-405e-8fec-1d1bb5c224a6",
   "metadata": {
    "codeCollapsed": false,
    "collapsed": false,
    "language": "python",
    "name": "train_test_split",
    "resultHeight": 0
   },
   "outputs": [],
   "source": [
    "train, test = ds_sp_ohe.random_split(weights=[0.70, 0.30], seed=0)"
   ]
  },
  {
   "cell_type": "code",
   "execution_count": null,
   "id": "a8ff103e-5314-4e95-87ba-d784b1102f36",
   "metadata": {
    "codeCollapsed": false,
    "collapsed": false,
    "language": "python",
    "name": "fill_na",
    "resultHeight": 0
   },
   "outputs": [],
   "source": [
    "train = train.fillna(0)\n",
    "test = test.fillna(0)"
   ]
  },
  {
   "cell_type": "code",
   "execution_count": null,
   "id": "c917df7f-e277-4fbb-abf5-1a4433367e3b",
   "metadata": {
    "codeCollapsed": false,
    "collapsed": false,
    "language": "python",
    "name": "convert_data_to_pandas"
   },
   "outputs": [],
   "source": [
    "train_pd = train.to_pandas()\n",
    "test_pd = test.to_pandas()"
   ]
  },
  {
   "cell_type": "code",
   "execution_count": null,
   "id": "5e4b5fba-b7a8-47ff-aaf6-076b9e78dcaf",
   "metadata": {
    "codeCollapsed": false,
    "collapsed": false,
    "language": "python",
    "name": "define_model",
    "resultHeight": 0
   },
   "outputs": [],
   "source": [
    "from snowflake.ml.modeling.xgboost import XGBClassifier\n",
    "\n",
    "snow_xgb_base = XGBClassifier(\n",
    "    input_cols=train.drop([\"TIMESTAMP\", \"LOAN_ID\", \"MORTGAGERESPONSE\"]).columns,\n",
    "    label_cols=train.select(\"MORTGAGERESPONSE\").columns,\n",
    "    output_cols=\"MORTGAGE_PREDICTION\",\n",
    "    max_depth=50,\n",
    "    n_estimators=3,\n",
    "    learning_rate = 0.75,\n",
    "    booster = 'gbtree')"
   ]
  },
  {
   "cell_type": "code",
   "execution_count": null,
   "id": "644f3295-2496-4fd0-ae95-922a78c5b944",
   "metadata": {
    "codeCollapsed": false,
    "collapsed": true,
    "language": "python",
    "name": "train_base",
    "resultHeight": 1759
   },
   "outputs": [],
   "source": [
    "snow_xgb_base.fit(train)"
   ]
  },
  {
   "cell_type": "code",
   "execution_count": null,
   "id": "0c5ac861-fcf9-47b2-9c11-ec44ee2367e4",
   "metadata": {
    "codeCollapsed": false,
    "collapsed": false,
    "language": "python",
    "name": "compute_predictions_and_perf_metrics"
   },
   "outputs": [],
   "source": [
    "from sklearn.metrics import f1_score, precision_score, recall_score\n",
    "train_preds_base = snow_xgb_base.to_xgboost().predict(train_pd.drop([\"TIMESTAMP\", \"LOAN_ID\", \"MORTGAGERESPONSE\"],axis=1).values)\n",
    "\n",
    "f1_base_train = f1_score(train_pd.MORTGAGERESPONSE, train_preds_base)\n",
    "precision_base_train = precision_score(train_pd.MORTGAGERESPONSE, train_preds_base)\n",
    "recall_base_train = recall_score(train_pd.MORTGAGERESPONSE, train_preds_base)\n",
    "\n",
    "print(f'F1: {f1_base_train} \\nPrecision {precision_base_train} \\nRecall: {recall_base_train}')"
   ]
  },
  {
   "cell_type": "markdown",
   "id": "93777778-d2ba-42d5-88c4-a90ba18c5006",
   "metadata": {
    "collapsed": false,
    "name": "model_regisry_md",
    "resultHeight": 74
   },
   "source": [
    "# Model Registry"
   ]
  },
  {
   "cell_type": "code",
   "execution_count": null,
   "id": "21678e59-deaf-4c2b-b01e-1c59fe31b10a",
   "metadata": {
    "codeCollapsed": false,
    "collapsed": false,
    "language": "python",
    "name": "define_model_registry",
    "resultHeight": 0
   },
   "outputs": [],
   "source": [
    "#Create a snowflake model registry object \n",
    "from snowflake.ml.registry import Registry\n",
    "from snowflake.ml._internal.utils import identifier\n",
    "from snowflake.ml.model import model_signature\n",
    "\n",
    "db = identifier._get_unescaped_name(session.get_current_database())\n",
    "schema = identifier._get_unescaped_name(session.get_current_schema())\n",
    "\n",
    "\n",
    "# Define model name\n",
    "model_name = f\"MORTGAGE_LENDING_MLOPS_{VERSION_NUM}\"\n",
    "\n",
    "# Create a registry to log the model to\n",
    "model_registry = Registry(session=session, \n",
    "                          database_name=db, \n",
    "                          schema_name=schema,\n",
    "                          options={\"enable_monitoring\": True})"
   ]
  },
  {
   "cell_type": "code",
   "execution_count": null,
   "id": "be41c3ac-49f0-4fd9-a557-9d8eb633f602",
   "metadata": {
    "codeCollapsed": false,
    "collapsed": false,
    "language": "python",
    "name": "register_model_version",
    "resultHeight": 229
   },
   "outputs": [],
   "source": [
    "#Deploy the base model to the model registry\n",
    "base_version_name = 'XGB_BASE'\n",
    "\n",
    "try:\n",
    "    mv_base = model_registry.get_model(model_name).version(base_version_name)\n",
    "    print(\"Found existing model version!\")\n",
    "except:\n",
    "    print(\"Logging new model version...\")\n",
    "    mv_base = model_registry.log_model(\n",
    "        model_name=model_name,\n",
    "        model=snow_xgb_base, \n",
    "        version_name=base_version_name,\n",
    "        comment = \"snow ml model built off feature store using base booster\",\n",
    "    )\n",
    "    mv_base.set_metric(metric_name=\"Train_F1_Score\", value=f1_base_train)\n",
    "    mv_base.set_metric(metric_name=\"Train_Precision_Score\", value=precision_base_train)\n",
    "    mv_base.set_metric(metric_name=\"Train_Recall_score\", value=recall_base_train)"
   ]
  },
  {
   "cell_type": "code",
   "execution_count": null,
   "id": "ac4e294e-929d-4399-b2bb-d5d2d1dd043e",
   "metadata": {
    "collapsed": false,
    "language": "python",
    "name": "show_models",
    "resultHeight": 111
   },
   "outputs": [],
   "source": [
    "model_registry.show_models()"
   ]
  },
  {
   "cell_type": "code",
   "execution_count": null,
   "id": "e3dfb281-9751-48a1-a76e-43ffffd9d099",
   "metadata": {
    "codeCollapsed": false,
    "collapsed": false,
    "language": "python",
    "name": "show_model_versions",
    "resultHeight": 146
   },
   "outputs": [],
   "source": [
    "model_registry.get_model(model_name).show_versions()"
   ]
  },
  {
   "cell_type": "code",
   "execution_count": null,
   "id": "eb1af8a1-7a92-455e-b9a1-8f2c699dfdeb",
   "metadata": {
    "collapsed": false,
    "language": "python",
    "name": "print_model_version_and_metrics",
    "resultHeight": 239
   },
   "outputs": [],
   "source": [
    "print(mv_base)\n",
    "print(mv_base.show_metrics())"
   ]
  },
  {
   "cell_type": "code",
   "execution_count": null,
   "id": "8ecdf05c-b3b5-4755-bdff-fd187ef07f58",
   "metadata": {
    "collapsed": false,
    "language": "python",
    "name": "show_model_functions",
    "resultHeight": 2133
   },
   "outputs": [],
   "source": [
    "mv_base.show_functions()"
   ]
  },
  {
   "cell_type": "code",
   "execution_count": null,
   "id": "bf495261-a8a7-46be-b9c8-3f099268d154",
   "metadata": {
    "collapsed": false,
    "language": "python",
    "name": "predict_from_registry",
    "resultHeight": 351
   },
   "outputs": [],
   "source": [
    "reg_preds = mv_base.run(test, function_name = \"predict\")\n",
    "reg_preds.show(10)"
   ]
  },
  {
   "cell_type": "code",
   "execution_count": null,
   "id": "9ef61447-10e7-4a38-a429-3da3facf9ce7",
   "metadata": {
    "collapsed": false,
    "language": "python",
    "name": "compute_test_metrics"
   },
   "outputs": [],
   "source": [
    "preds_pd = reg_preds.select(\"MORTGAGERESPONSE\", \"MORTGAGE_PREDICTION\").to_pandas()\n",
    "f1_base_test = f1_score(preds_pd.MORTGAGERESPONSE, preds_pd.MORTGAGE_PREDICTION)\n",
    "precision_base_test = precision_score(preds_pd.MORTGAGERESPONSE, preds_pd.MORTGAGE_PREDICTION)\n",
    "recall_base_test = recall_score(preds_pd.MORTGAGERESPONSE, preds_pd.MORTGAGE_PREDICTION)\n",
    "\n",
    "#log metrics to model registry model\n",
    "mv_base.set_metric(metric_name=\"Test_F1_Score\", value=f1_base_test)\n",
    "mv_base.set_metric(metric_name=\"Test_Precision_Score\", value=precision_base_test)\n",
    "mv_base.set_metric(metric_name=\"Test_Recall_score\", value=recall_base_test)\n",
    "\n",
    "print(f'F1: {f1_base_test} \\nPrecision {precision_base_test} \\nRecall: {recall_base_test}')"
   ]
  },
  {
   "cell_type": "markdown",
   "id": "9b477885-35ce-486d-9e86-7d0cc9d48454",
   "metadata": {
    "collapsed": false,
    "name": "HPO_MD"
   },
   "source": [
    "# Oh no! Our model's performance seems to have dropped off significantly from training to our test set. \n",
    "## This is evidence that our model is overfit - can we fix this with Distributed Hyperparameter Optimization??"
   ]
  },
  {
   "cell_type": "code",
   "execution_count": null,
   "id": "89d2bafe-e9a2-488c-bf00-9bd9e2499776",
   "metadata": {
    "codeCollapsed": false,
    "collapsed": false,
    "language": "python",
    "name": "grid_search"
   },
   "outputs": [],
   "source": [
    "from snowflake.ml.modeling.model_selection.grid_search_cv import GridSearchCV\n",
    "\n",
    "#Define our hyperparameter grid - skipping max_depth of 100 as that is likely the culprit for overfitting\n",
    "hyper_param_grid = dict(\n",
    "            max_depth= [10, 50, 100],\n",
    "            learning_rate = [0.5, 0.75],\n",
    "            n_estimators= [1,5,10]\n",
    "    \n",
    "        )\n",
    "\n",
    "#Define the grid search model\n",
    "grid_search_model = GridSearchCV(estimator=XGBClassifier(), \n",
    "                   param_grid=hyper_param_grid, \n",
    "                   cv=5, \n",
    "                   input_cols=train.drop([\"TIMESTAMP\", \"LOAN_ID\", \"MORTGAGERESPONSE\"]).columns,\n",
    "                   label_cols=train.select(\"MORTGAGERESPONSE\").columns,\n",
    "                   output_cols=\"MORTGAGE_PREDICTION\",\n",
    "                   scoring=\"f1\",\n",
    "                   refit=True)\n",
    "#Train the model\n",
    "grid_search_model.fit(train)\n",
    "\n",
    "#Print out the best params\n",
    "grid_search_model.to_sklearn().best_params_\n",
    "# snow_xgb_linear= grid_search_model.to_sklearn().best_estimator_"
   ]
  },
  {
   "cell_type": "code",
   "execution_count": null,
   "id": "94b4a6c2-674e-4d02-afdb-8ebf10cffdc4",
   "metadata": {
    "collapsed": false,
    "language": "python",
    "name": "compute_train_predictions_and_metrics"
   },
   "outputs": [],
   "source": [
    "#Quick code to rename columns for prediction\n",
    "rename_dict = {}\n",
    "for n,i in enumerate(train_pd.columns):\n",
    "    rename_dict[i] = train.columns[n]\n",
    "\n",
    "#Generate predictions\n",
    "xgb_opt_preds = grid_search_model.to_sklearn().best_estimator_.predict(train_pd.drop([\"TIMESTAMP\", \"LOAN_ID\", \"MORTGAGERESPONSE\"],axis=1).rename(columns=rename_dict))\n",
    "\n",
    "#Generate performance metrics\n",
    "f1_opt_train = f1_score(train_pd.MORTGAGERESPONSE, xgb_opt_preds)\n",
    "precision_opt_train = precision_score(train_pd.MORTGAGERESPONSE, xgb_opt_preds)\n",
    "recall_opt_train = recall_score(train_pd.MORTGAGERESPONSE, xgb_opt_preds)\n",
    "\n",
    "print(f'F1: {f1_opt_train} \\nPrecision {precision_opt_train} \\nRecall: {recall_opt_train}')"
   ]
  },
  {
   "cell_type": "code",
   "execution_count": null,
   "id": "dee80c48-d521-4b77-8841-54ba35ecd4b6",
   "metadata": {
    "collapsed": false,
    "language": "python",
    "name": "compute_test_predictions_and_metrics"
   },
   "outputs": [],
   "source": [
    "#Generate test predictions\n",
    "xgb_opt_preds_test = grid_search_model.to_sklearn().best_estimator_.predict(test_pd.drop([\"TIMESTAMP\", \"LOAN_ID\", \"MORTGAGERESPONSE\"],axis=1).rename(columns=rename_dict))\n",
    "\n",
    "#Generate performance metrics on test data\n",
    "f1_opt_test = f1_score(test_pd.MORTGAGERESPONSE, xgb_opt_preds_test)\n",
    "precision_opt_test = precision_score(test_pd.MORTGAGERESPONSE, xgb_opt_preds_test)\n",
    "recall_opt_test = recall_score(test_pd.MORTGAGERESPONSE, xgb_opt_preds_test)\n",
    "\n",
    "print(f'F1: {f1_opt_test} \\nPrecision {precision_opt_test} \\nRecall: {recall_opt_test}')"
   ]
  },
  {
   "cell_type": "markdown",
   "id": "89a1a670-52e3-4d77-ac3a-db830e22fdcf",
   "metadata": {
    "collapsed": false,
    "name": "HPO_performance_reaction"
   },
   "source": [
    "# Here we see the HPO model has a more modest train accuracy than our base model - but the peformance doesn't drop off during testing"
   ]
  },
  {
   "cell_type": "code",
   "execution_count": null,
   "id": "d501cf7d-4965-4b9f-8b16-edab897d0e18",
   "metadata": {
    "collapsed": false,
    "language": "python",
    "name": "log_hpo_model"
   },
   "outputs": [],
   "source": [
    "#Log the optimized model to the model registry\n",
    "optimized_version_name = 'XGB_Optimized'\n",
    "\n",
    "try:\n",
    "    mv_opt = model_registry.get_model(model_name).version(optimized_version_name)\n",
    "    print(\"Found existing model version!\")\n",
    "except:\n",
    "    print(\"Logging new model version...\")\n",
    "    mv_opt = model_registry.log_model(\n",
    "        model_name=model_name,\n",
    "        model=grid_search_model, \n",
    "        version_name=optimized_version_name,\n",
    "        comment = \"snow ml model built off feature store using HPO model\",\n",
    "    )\n",
    "    mv_opt.set_metric(metric_name=\"Train_F1_Score\", value=f1_opt_train)\n",
    "    mv_opt.set_metric(metric_name=\"Train_Precision_Score\", value=precision_opt_train)\n",
    "    mv_opt.set_metric(metric_name=\"Train_Recall_score\", value=recall_opt_train)\n",
    "\n",
    "    mv_opt.set_metric(metric_name=\"Test_F1_Score\", value=f1_opt_test)\n",
    "    mv_opt.set_metric(metric_name=\"Test_Precision_Score\", value=precision_opt_test)\n",
    "    mv_opt.set_metric(metric_name=\"Test_Recall_score\", value=recall_opt_test)"
   ]
  },
  {
   "cell_type": "code",
   "execution_count": null,
   "id": "c4c028b9-b590-45b4-9884-35ee206bca0d",
   "metadata": {
    "collapsed": false,
    "language": "python",
    "name": "inspect_current_default_version"
   },
   "outputs": [],
   "source": [
    "#Here we see the BASE version is our default version\n",
    "model_registry.get_model(model_name).default"
   ]
  },
  {
   "cell_type": "code",
   "execution_count": null,
   "id": "04ac97a9-7af4-4331-bb0d-cf6ecc4a77f6",
   "metadata": {
    "collapsed": false,
    "language": "python",
    "name": "promote_optimized_version_to_default"
   },
   "outputs": [],
   "source": [
    "#Now we'll set the optimized model to be the default model version going forward\n",
    "model_registry.get_model(model_name).default = optimized_version_name"
   ]
  },
  {
   "cell_type": "code",
   "execution_count": null,
   "id": "c04efcee-27e6-4423-b669-849bec7cc8fb",
   "metadata": {
    "collapsed": false,
    "language": "python",
    "name": "see_updated_model_versions"
   },
   "outputs": [],
   "source": [
    "#Now we see our optimized version we have now recently promoted to our DEFAULT model version\n",
    "model_registry.get_model(model_name).default"
   ]
  },
  {
   "cell_type": "code",
   "execution_count": null,
   "id": "914f5cd6-d254-42d4-a0be-9848c9d09d4a",
   "metadata": {
    "collapsed": false,
    "language": "python",
    "name": "reg_explain",
    "resultHeight": 0
   },
   "outputs": [],
   "source": [
    "test_pd_sample=test_pd.rename(columns=rename_dict).sample(n=1000, random_state = 100).reset_index(drop=True)\n",
    "shap_pd = mv_base.run(test_pd_sample, function_name=\"explain\")"
   ]
  },
  {
   "cell_type": "code",
   "execution_count": null,
   "id": "f74e0dcc-a850-474a-b475-f05a77619731",
   "metadata": {
    "collapsed": false,
    "language": "python",
    "name": "shap_summary_plot",
    "resultHeight": 571
   },
   "outputs": [],
   "source": [
    "import shap \n",
    "just_input_vals = test_pd_sample.drop([\"LOAN_ID\",\"MORTGAGERESPONSE\", \"TIMESTAMP\"], axis=1)\n",
    "\n",
    "shap.summary_plot(np.array(shap_pd), just_input_vals, feature_names = just_input_vals.columns)"
   ]
  },
  {
   "cell_type": "code",
   "execution_count": null,
   "id": "023a9b3c-0fd3-4d6e-b19e-6dcd0bd636f0",
   "metadata": {
    "collapsed": false,
    "language": "python",
    "name": "plot_income_explanation",
    "resultHeight": 850
   },
   "outputs": [],
   "source": [
    "import seaborn as sns\n",
    "import matplotlib.pyplot as plt\n",
    "\n",
    "all_shap = test_pd_sample.merge(shap_pd, right_index=True, left_index=True, how='outer')\n",
    "income_0_to_200k = all_shap[(all_shap.INCOME>0) & (all_shap.INCOME<200000)]\n",
    "sns.scatterplot(data = income_0_to_200k, x =\"INCOME\", y = '\"INCOME_explanation\"', color='darkblue', s=30, alpha=0.75, edgecolor='w',)\n",
    "sns.regplot(data = income_0_to_200k, x =\"INCOME\", y = '\"INCOME_explanation\"', scatter=False, color='red', line_kws={\"lw\":2},ci =100, lowess=True)"
   ]
  },
  {
   "cell_type": "code",
   "execution_count": null,
   "id": "9beba66b-ce06-4ad6-9caf-b38847d691b0",
   "metadata": {
    "collapsed": false,
    "language": "python",
    "name": "loan_amount_shap"
   },
   "outputs": [],
   "source": [
    "import seaborn as sns\n",
    "import matplotlib.pyplot as plt\n",
    "\n",
    "loan_200k_to_2M = all_shap[(all_shap.LOAN_AMOUNT>200000) & (all_shap.LOAN_AMOUNT<2000000)]\n",
    "sns.scatterplot(data = loan_200k_to_2M, x =\"LOAN_AMOUNT\", y = '\"LOAN_AMOUNT_explanation\"', color='darkblue', s=30, alpha=0.75, edgecolor='w',)\n",
    "sns.regplot(data = loan_200k_to_2M, x =\"LOAN_AMOUNT\", y = '\"LOAN_AMOUNT_explanation\"', scatter=False, color='red', line_kws={\"lw\":2},ci =100, lowess=True)"
   ]
  },
  {
   "cell_type": "code",
   "execution_count": null,
   "id": "14a03aa9-1f1a-4a4e-809e-b22e438d72aa",
   "metadata": {
    "collapsed": false,
    "language": "python",
    "name": "plot_home_purchase_explanation",
    "resultHeight": 851
   },
   "outputs": [],
   "source": [
    "#Loan types of home purchases are more likely to be approved versus other types of loans\n",
    "sns.boxplot(data = all_shap, x ='\"LOAN_PURPOSE_NAME_Home purchase\"', y = '\"LOAN_PURPOSE_NAME_Home purchase_explanation\"',  palette='Set1', width=0.75, linewidth=1, fliersize=2)"
   ]
  },
  {
   "cell_type": "markdown",
   "id": "b7c0ba63-75bc-4323-8c6e-27d7b5588785",
   "metadata": {
    "collapsed": false,
    "name": "DISTRIBUTED_TRAINING_MD"
   },
   "source": [
    "# Distributed model training\n",
    "## For demonstrations sake - below we have an example doing distributed model training\n",
    "### Snowflake will set up a ray cluster on all available nodes in your compute pool (CPU or GPU) and execute the distributed training job"
   ]
  },
  {
   "cell_type": "code",
   "execution_count": null,
   "id": "2459457f-0d5c-4a8e-824f-c2e30b9db827",
   "metadata": {
    "codeCollapsed": false,
    "collapsed": false,
    "language": "python",
    "name": "Distributed_model_training"
   },
   "outputs": [],
   "source": [
    "from snowflake.ml.modeling.distributors.xgboost.xgboost_estimator import XGBEstimator, XGBScalingConfig\n",
    "from snowflake.ml.data.data_connector import DataConnector\n",
    "dc = DataConnector.from_dataframe(train)\n",
    "\n",
    "#Specify Scaling Config \n",
    "scaling_config = XGBScalingConfig(use_gpu=True)\n",
    "\n",
    "#Define distributed xgb estimator\n",
    "dist_gpu_xgb = XGBEstimator(\n",
    "    params = {\"booster\": \"gbtree\",\n",
    "              \"n_estimators\":10,},\n",
    "    scaling_config = scaling_config)\n",
    "\n",
    "dist_gpu_xgb.fit(dc,\n",
    "                 input_cols = train.drop([\"TIMESTAMP\", \"LOAN_ID\", \"MORTGAGERESPONSE\"]).columns,\n",
    "                 label_col = \"MORTGAGERESPONSE\")"
   ]
  },
  {
   "cell_type": "markdown",
   "id": "df7a9ccc-e785-4a82-b9e9-97fd44d5acf2",
   "metadata": {
    "collapsed": false,
    "name": "Monitoring_section",
    "resultHeight": 74
   },
   "source": [
    "# Model Monitoring setup"
   ]
  },
  {
   "cell_type": "code",
   "execution_count": null,
   "id": "e0751bdd-6c24-4c65-9247-aa90ebc1d376",
   "metadata": {
    "collapsed": false,
    "language": "python",
    "name": "create_table_from_test_data",
    "resultHeight": 0
   },
   "outputs": [],
   "source": [
    "train.write.save_as_table(f\"DEMO_MORTGAGE_LENDING_TRAIN_{VERSION_NUM}\", mode=\"overwrite\")\n",
    "test.write.save_as_table(f\"DEMO_MORTGAGE_LENDING_TEST_{VERSION_NUM}\", mode=\"overwrite\")"
   ]
  },
  {
   "cell_type": "code",
   "execution_count": null,
   "id": "aabdf2be-87f8-4556-aa42-22e4a70515e1",
   "metadata": {
    "collapsed": false,
    "language": "python",
    "name": "create_stage",
    "resultHeight": 111
   },
   "outputs": [],
   "source": [
    "session.sql(\"CREATE stage IF NOT EXISTS ML_STAGE\").collect()"
   ]
  },
  {
   "cell_type": "code",
   "execution_count": null,
   "id": "21b2c090-5cc8-4847-982a-fb9b5e427616",
   "metadata": {
    "collapsed": false,
    "language": "python",
    "name": "define_sproc",
    "resultHeight": 495
   },
   "outputs": [],
   "source": [
    "from snowflake import snowpark\n",
    "from snowflake.ml.registry import Registry\n",
    "import joblib\n",
    "import os\n",
    "import logging\n",
    "from snowflake.ml.modeling.pipeline import Pipeline\n",
    "import snowflake.ml.modeling.preprocessing as pp\n",
    "from snowflake.snowpark.types import StringType, IntegerType\n",
    "import snowflake.snowpark.functions as F\n",
    "\n",
    "\n",
    "def demo_inference_sproc(session: snowpark.Session, table_name: str, modelname: str, modelversion: str) -> str:\n",
    "    \n",
    "    database=session.get_current_database()\n",
    "    schema=session.get_current_schema()\n",
    "    reg = Registry(session=session)\n",
    "    m = reg.get_model(model_name)  # Fetch the model using the registry\n",
    "    mv = m.version(modelversion)\n",
    "    \n",
    "    input_table_name=table_name\n",
    "    pred_col = f'{modelversion}_PREDICTION'\n",
    "\n",
    "    # Read the input table to a dataframe\n",
    "    df = session.table(input_table_name)\n",
    "\n",
    "    # Perform prediction using the model\n",
    "    results = mv.run(df, function_name=\"predict\").select(\"LOAN_ID\",\"MORTGAGE_PREDICTION\").withColumnRenamed(\"MORTGAGE_PREDICTION\", pred_col)  # 'results' is the output DataFrame with predictions\n",
    "    # results = results.withColumnRenamed(\"MORTGAGE_PREDICTION\", pred_col)\n",
    "    \n",
    "    final = df.join(results, on=\"LOAN_ID\", how=\"full\")\n",
    "    # Write results back to Snowflake table\n",
    "    final.write.save_as_table(table_name, mode='overwrite',enable_schema_evolution=True)\n",
    "    \n",
    "    # # # Execute the update statement\n",
    "\n",
    "    # df = df.with_column(pred_col, F.lit(9999))\n",
    "    # df.write.save_as_table(input_table_name, mode='overwrite')\n",
    "    # update_sql1 = f\"\"\"\n",
    "    # UPDATE {input_table_name} t\n",
    "    # SET {pred_col} = r.{pred_col}\n",
    "    # FROM DEMO_TEMP_PREDICTION_RESULTS r\n",
    "    # WHERE t.LOAN_ID = r.LOAN_ID\n",
    "    # AND t.TIMESTAMP=r.TIMESTAMP ;\n",
    "    # \"\"\"\n",
    "    \n",
    "    # # Execute the update statement\n",
    "    # session.sql(update_sql1).collect()\n",
    "\n",
    "    return \"Success\"\n",
    "\n",
    "# Register the stored procedure\n",
    "session.sproc.register(\n",
    "    func=demo_inference_sproc,\n",
    "    name=\"model_inference_sproc\",\n",
    "    replace=True,\n",
    "    is_permanent=True,\n",
    "    stage_location=\"@ML_STAGE\",\n",
    "    packages=['joblib', 'snowflake-snowpark-python', 'snowflake-ml-python'],\n",
    "    return_type=StringType()\n",
    ")\n"
   ]
  },
  {
   "cell_type": "code",
   "execution_count": null,
   "id": "da45031a-917e-4f6d-a2e4-068879791819",
   "metadata": {
    "collapsed": false,
    "language": "sql",
    "name": "gb_tree_train",
    "resultHeight": 111
   },
   "outputs": [],
   "source": [
    "CALL model_inference_sproc('DEMO_MORTGAGE_LENDING_TRAIN_{{VERSION_NUM}}','{{model_name}}', '{{base_version_name}}');"
   ]
  },
  {
   "cell_type": "code",
   "execution_count": null,
   "id": "0d18ea05-7d29-43a3-9baa-52509f3bb15e",
   "metadata": {
    "codeCollapsed": false,
    "collapsed": false,
    "language": "sql",
    "name": "gb_tree_test",
    "resultHeight": 111
   },
   "outputs": [],
   "source": [
    "CALL model_inference_sproc('DEMO_MORTGAGE_LENDING_TEST_{{VERSION_NUM}}','{{model_name}}', '{{base_version_name}}');"
   ]
  },
  {
   "cell_type": "code",
   "execution_count": null,
   "id": "c1d2550b-46c7-4eb7-adaa-64c345711b1e",
   "metadata": {
    "codeCollapsed": false,
    "collapsed": false,
    "language": "sql",
    "name": "gb_lin_train",
    "resultHeight": 111
   },
   "outputs": [],
   "source": [
    "CALL model_inference_sproc('DEMO_MORTGAGE_LENDING_TRAIN_{{VERSION_NUM}}','{{model_name}}', '{{optimized_version_name}}');"
   ]
  },
  {
   "cell_type": "code",
   "execution_count": null,
   "id": "8245f482-19e9-4961-9cb2-801bf5948d52",
   "metadata": {
    "codeCollapsed": false,
    "collapsed": false,
    "language": "sql",
    "name": "gb_lin_test",
    "resultHeight": 111
   },
   "outputs": [],
   "source": [
    "CALL model_inference_sproc('DEMO_MORTGAGE_LENDING_TEST_{{VERSION_NUM}}','{{model_name}}', '{{optimized_version_name}}');"
   ]
  },
  {
   "cell_type": "code",
   "execution_count": null,
   "id": "ec05048c-a9d1-4ef9-bf39-5333f3fb56cb",
   "metadata": {
    "codeCollapsed": false,
    "collapsed": false,
    "language": "sql",
    "name": "see_preds",
    "resultHeight": 251
   },
   "outputs": [],
   "source": [
    "select * FROM DEMO_MORTGAGE_LENDING_TRAIN_{{VERSION_NUM}} limit 5"
   ]
  },
  {
   "cell_type": "code",
   "execution_count": null,
   "id": "38a88ab4-7b22-414c-831d-5da2331e604b",
   "metadata": {
    "codeCollapsed": false,
    "collapsed": false,
    "language": "python",
    "name": "set_up_monitoring_configs",
    "resultHeight": 0
   },
   "outputs": [],
   "source": [
    "# from snowflake.ml.monitoring.entities.model_monitor_config import ModelMonitorConfig, ModelMonitorSourceConfig\n",
    "# # snowflake/ml/monitoring/entities/model_monitor_config.py\n",
    "\n",
    "# # Set up source/baseline table config for base model\n",
    "# base_source_config = ModelMonitorSourceConfig(\n",
    "#     baseline = \"DEMO_MORTGAGE_LENDING_TRAIN\",\n",
    "#     source=\"DEMO_MORTGAGE_LENDING_TEST\",\n",
    "#     timestamp_column=\"TIMESTAMP\",\n",
    "#     prediction_score_columns=[\"XGB_BASE_PREDICTION\"],\n",
    "#     actual_score_columns=[\"MORTGAGERESPONSE\"],\n",
    "#     id_columns=[\"LOAN_ID\"]\n",
    "# )\n",
    "\n",
    "# # Set up model config for tree booster\n",
    "# base_monitor_config = ModelMonitorConfig(\n",
    "#     model_version=mv_base,\n",
    "#     model_function_name=\"predict\",\n",
    "#     background_compute_warehouse_name=\"ML_WH\"\n",
    "# )\n",
    "\n",
    "# # Set up source/baseline table config for opt model\n",
    "# opt_source_config = ModelMonitorSourceConfig(\n",
    "#     baseline = \"DEMO_MORTGAGE_LENDING_TRAIN\",\n",
    "#     source=\"DEMO_MORTGAGE_LENDING_TEST\",\n",
    "#     timestamp_column=\"TIMESTAMP\",\n",
    "#     prediction_score_columns=[\"XGB_OPTIMIZED_PREDICTION\"],\n",
    "#     actual_score_columns=[\"MORTGAGERESPONSE\"],\n",
    "#     id_columns=[\"LOAN_ID\"]\n",
    "# )\n",
    "\n",
    "# # Set up model config for linear booster\n",
    "# opt_monitor_config = ModelMonitorConfig(\n",
    "#     model_version=mv_opt,\n",
    "#     model_function_name=\"predict\",\n",
    "#     background_compute_warehouse_name=\"ML_WH\"\n",
    "# )"
   ]
  },
  {
   "cell_type": "code",
   "execution_count": null,
   "id": "5438465c-ae49-4f63-be40-c79118e7fa98",
   "metadata": {
    "collapsed": false,
    "language": "python",
    "name": "add_model_monitors",
    "resultHeight": 0
   },
   "outputs": [],
   "source": [
    "# # Add a new ModelMonitor\n",
    "# model_monitor = model_registry.add_monitor(\n",
    "#     name=\"GB_TREE_MORTGAGE_LENDING_MODEL_MONITOR\", \n",
    "#     source_config=tree_source_config,\n",
    "#     model_monitor_config=tree_monitor_config,\n",
    "# )\n",
    "\n",
    "\n",
    "# model_monitor = model_registry.add_monitor(\n",
    "#     name=\"GB_MORTGAGE_LENDING_MODEL_MONITOR\", \n",
    "#     source_config=linear_source_config,\n",
    "#     model_monitor_config=linear_monitor_config,\n",
    "# )"
   ]
  },
  {
   "cell_type": "code",
   "execution_count": null,
   "id": "2f6be548-47cb-4a91-92ee-a5f42c41e756",
   "metadata": {
    "collapsed": false,
    "language": "sql",
    "name": "create_model_monitor_tree_SQL",
    "resultHeight": 111
   },
   "outputs": [],
   "source": [
    "CREATE OR REPLACE MODEL MONITOR MORTGAGE_LENDING_BASE_MODEL_MONITOR\n",
    "WITH\n",
    "    MODEL={{model_name}}\n",
    "    VERSION={{base_version_name}}\n",
    "    FUNCTION=predict\n",
    "    SOURCE=DEMO_MORTGAGE_LENDING_TEST_{{VERSION_NUM}}\n",
    "    BASELINE=DEMO_MORTGAGE_LENDING_TRAIN_{{VERSION_NUM}}\n",
    "    TIMESTAMP_COLUMN=TIMESTAMP\n",
    "    PREDICTION_CLASS_COLUMNS=(XGB_BASE_PREDICTION)  \n",
    "    ACTUAL_CLASS_COLUMNS=(MORTGAGERESPONSE)\n",
    "    ID_COLUMNS=(LOAN_ID)\n",
    "    WAREHOUSE=SMALL\n",
    "    REFRESH_INTERVAL='1 min'\n",
    "    AGGREGATION_WINDOW='1 day';"
   ]
  },
  {
   "cell_type": "code",
   "execution_count": null,
   "id": "60965976-f17f-42bc-92ae-e43030bba54e",
   "metadata": {
    "collapsed": false,
    "language": "sql",
    "name": "create_model_monitor_linear_SQL",
    "resultHeight": 111
   },
   "outputs": [],
   "source": [
    "CREATE OR REPLACE MODEL MONITOR MORTGAGE_LENDING_OPTIMIZED_MODEL_MONITOR\n",
    "WITH\n",
    "    MODEL={{model_name}}\n",
    "    VERSION={{optimized_version_name}}\n",
    "    FUNCTION=predict\n",
    "    SOURCE=DEMO_MORTGAGE_LENDING_TEST_{{VERSION_NUM}}\n",
    "    BASELINE=DEMO_MORTGAGE_LENDING_TRAIN_{{VERSION_NUM}}\n",
    "    TIMESTAMP_COLUMN=TIMESTAMP\n",
    "    PREDICTION_CLASS_COLUMNS=(XGB_OPTIMIZED_PREDICTION)  \n",
    "    ACTUAL_CLASS_COLUMNS=(MORTGAGERESPONSE)\n",
    "    ID_COLUMNS=(LOAN_ID)\n",
    "    WAREHOUSE=SMALL\n",
    "    REFRESH_INTERVAL='1 min'\n",
    "    AGGREGATION_WINDOW='1 day';"
   ]
  },
  {
   "cell_type": "markdown",
   "id": "36b7dece-381c-42c9-af56-b5e85c50e4d5",
   "metadata": {
    "collapsed": false,
    "name": "DEBUG_MONITORING_FINDINGS",
    "resultHeight": 74
   },
   "source": [
    "# Debug Montitoring Findings [WIP]"
   ]
  },
  {
   "cell_type": "code",
   "execution_count": null,
   "id": "10ac9b54-00c6-4a32-8773-f16f3b4d2ca9",
   "metadata": {
    "collapsed": false,
    "language": "python",
    "name": "start_debug",
    "resultHeight": 0
   },
   "outputs": [],
   "source": [
    "# debug_df = session.table(\"DEMO_MORTGAGE_LENDING_TEST\").to_pandas()\n",
    "# low_accuracy_period= debug_df[(debug_df.TIMESTAMP>datetime.datetime(2024,9,1)) & (debug_df.TIMESTAMP<datetime.datetime(2024,9,30))]\n",
    "# f1_score(low_accuracy_period.MORTGAGERESPONSE, low_accuracy_period.GB_TREE_PREDICTION)"
   ]
  },
  {
   "cell_type": "markdown",
   "id": "7b8f8d88-1ebe-4622-89ca-39bce08473d4",
   "metadata": {
    "collapsed": false,
    "name": "SPCS_MD"
   },
   "source": [
    "# SPCS Deployment setup \n",
    "## We will now create a container service behind the "
   ]
  },
  {
   "cell_type": "code",
   "execution_count": null,
   "id": "c416a4d0-a95f-4702-9a61-26b61706eb11",
   "metadata": {
    "language": "python",
    "name": "define_spcs_vars"
   },
   "outputs": [],
   "source": [
    "image_repo_name = \"MORTGAGE_LENDING_IMAGE_REPO_LLM\"\n",
    "cp_name = \"MORTGAGE_LENDING_INFERENCE_CP\"\n",
    "num_spcs_nodes = '3'\n",
    "spcs_instance_family = 'CPU_X64_L'\n",
    "service_name = 'MORTGAGE_LENDING_PREDICTION_SERVICE'\n",
    "\n",
    "current_database = session.get_current_database().replace('\"', '')\n",
    "current_schema = session.get_current_schema().replace('\"', '')\n",
    "extended_image_repo_name = f\"{current_database}.{current_schema}.{image_repo_name}\"\n",
    "extended_service_name = f'{current_database}.{current_schema}.{service_name}'"
   ]
  },
  {
   "cell_type": "code",
   "execution_count": null,
   "id": "448f6702-8fb2-4aac-9e54-a8673c064074",
   "metadata": {
    "language": "python",
    "name": "setup_compute_pool"
   },
   "outputs": [],
   "source": [
    "# session.sql(f\"alter compute pool if exists {cp_name} stop all\").collect()\n",
    "# session.sql(f\"drop compute pool if exists {cp_name}\").collect()\n",
    "# session.sql(f\"create compute pool {cp_name} min_nodes={num_spcs_nodes} max_nodes={num_spcs_nodes} instance_family={spcs_instance_family} auto_resume=True auto_suspend_secs=300\").collect()\n",
    "# session.sql(f\"describe compute pool {cp_name}\").show()"
   ]
  },
  {
   "cell_type": "code",
   "execution_count": null,
   "id": "8537738c-7e11-42ea-847d-8871ddfe0539",
   "metadata": {
    "language": "python",
    "name": "create_image_repo"
   },
   "outputs": [],
   "source": [
    "# session.sql(f\"create image repository if not exists {extended_image_repo_name}\").collect()"
   ]
  },
  {
   "cell_type": "code",
   "execution_count": null,
   "id": "df47725b-e9e7-4f93-bdea-9db09794bd95",
   "metadata": {
    "codeCollapsed": false,
    "collapsed": true,
    "language": "python",
    "name": "spcs_deploy_service"
   },
   "outputs": [],
   "source": [
    "# mv_opt.create_service(\n",
    "#     service_name=extended_service_name,\n",
    "#     service_compute_pool=cp_name,\n",
    "#     image_repo=extended_image_repo_name,\n",
    "#     ingress_enabled=True,\n",
    "#     max_instances=int(num_spcs_nodes),\n",
    "#     build_external_access_integration=\"ALLOW_ALL_INTEGRATION\"\n",
    "# )"
   ]
  },
  {
   "cell_type": "code",
   "execution_count": null,
   "id": "3f6dcb97-aa8f-467b-a939-63d1d3b70f58",
   "metadata": {
    "collapsed": false,
    "language": "python",
    "name": "view_services"
   },
   "outputs": [],
   "source": [
    "mv_container = model_registry.get_model(\"MORTGAGE_LENDING_MLOPS_128\").default\n",
    "mv_container.list_services()"
   ]
  },
  {
   "cell_type": "code",
   "execution_count": null,
   "id": "c5eb9b1a-0741-4e9d-aaf4-2da26c44ffbd",
   "metadata": {
    "collapsed": false,
    "language": "python",
    "name": "run_SPCS_inference"
   },
   "outputs": [],
   "source": [
    "# mv_container.run(test, function_name = \"predict\", service_name = \"MORTGAGE_LENDING_PREDICTION_SERVICE\")"
   ]
  },
  {
   "cell_type": "code",
   "execution_count": null,
   "id": "11af9340-04f7-4279-92d2-08849a85b9f8",
   "metadata": {
    "language": "python",
    "name": "rest_API_data_setup"
   },
   "outputs": [],
   "source": [
    "# feature_columns = [feature.name for feature in mv_opt.show_functions()[1][\"signature\"].inputs]\n",
    "# feature_columns\n",
    "\n",
    "# test.limit(1).select(*feature_columns).show()\n",
    "\n",
    "# input_features = test.limit(1).select(*feature_columns).to_pandas().values.tolist()[0]\n",
    "# data = {\"data\": [[0, *input_features]]}\n",
    "# print(data)"
   ]
  },
  {
   "cell_type": "markdown",
   "id": "ce110000-1111-2222-3333-ffffff000036",
   "metadata": {
    "collapsed": false,
    "jp-MarkdownHeadingCollapsed": true,
    "name": "conclusion",
    "resultHeight": 202,
    "tags": []
   },
   "source": [
    "## Conclusion\n",
    "\n",
    "#### 🛠️ Snowflake Feature Store tracks feature definitions and maintains lineage of sources and destinations 🛠️\n",
    "#### 🚀 Snowflake Model Registry gives users a secure and flexible framework to deploy track and monitor models 🚀\n",
    "#### 🔮 All model versions logged in the Model Registry can be accessed for inference, explainability, lineage tracking, visibility and more 🔮\n"
   ]
  }
 ],
 "metadata": {
  "kernelspec": {
   "display_name": "Python37 (ipykernel)",
   "language": "python",
   "name": "python3"
  },
  "language_info": {
   "codemirror_mode": {
    "name": "ipython",
    "version": 3
   },
   "file_extension": ".py",
   "mimetype": "text/x-python",
   "name": "python",
   "nbconvert_exporter": "python",
   "pygments_lexer": "ipython3",
   "version": "3.9.7"
  },
  "lastEditStatus": {
   "authorEmail": "elliott.botwick@snowflake.com",
   "authorId": "5095547476787",
   "authorName": "EBOTWICK",
   "lastEditTime": 1738038983435,
   "notebookId": "o2smygg5nuqp4fetn62h",
   "sessionId": "56800cf2-068a-41a2-bce4-b0557eef1e7a"
  }
 },
 "nbformat": 4,
 "nbformat_minor": 4
}
