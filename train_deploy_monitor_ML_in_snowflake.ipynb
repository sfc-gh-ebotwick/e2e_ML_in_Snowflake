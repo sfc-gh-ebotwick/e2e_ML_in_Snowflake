{
 "metadata": {
  "kernelspec": {
   "display_name": "Python37 (ipykernel)",
   "language": "python",
   "name": "python3"
  },
  "language_info": {
   "codemirror_mode": {
    "name": "ipython",
    "version": 3
   },
   "file_extension": ".py",
   "mimetype": "text/x-python",
   "name": "python",
   "nbconvert_exporter": "python",
   "pygments_lexer": "ipython3",
   "version": "3.9.7"
  },
  "lastEditStatus": {
   "notebookId": "jpkykkp5fdrvv3gjnjg4",
   "authorId": "5095547476787",
   "authorName": "EBOTWICK",
   "authorEmail": "elliott.botwick@snowflake.com",
   "sessionId": "1533f429-ee99-4f16-87a3-e7ab734d08b7",
   "lastEditTime": 1739340587310
  }
 },
 "nbformat_minor": 4,
 "nbformat": 4,
 "cells": [
  {
   "cell_type": "markdown",
   "id": "e79ae8e5-aec2-4276-9443-074c3a614142",
   "metadata": {
    "name": "INTRO_MD",
    "collapsed": false
   },
   "source": "# ❄️ End-to-end ML OPs Demo ❄️\nIn this worfklow we will work through the following\n- Use Feature Store to track engineered features\n    - Store feature defintions in feature store for reproducible computation of ML features\n- Train two SnowML Models\n    - Xgboost with tree booster\n    - Xgboost with linear booster\n- Register both models in Snowflake model registry\n    - Explore model registry capabilities such as metadata tracking, inference, and explainability\n- Set up Model Monitor to track 1 year of predicted and actual loan repayments\n    - Compute performance metrics such a F1, Precision, Recall\n    - Inspect model drift (i.e. how much has the average predicted repayment rate changed day-to-day)\n    - Compare models side-by-side to understand which model should be used in production\n    - Identify and understand data issues\n- Track data and model lineage throughout\n    - View and understand\n      - The origin of the data used for computed features\n      - The data used for model training\n      - The available model versions being monitored"
  },
  {
   "cell_type": "code",
   "id": "a2512cb5-15ae-40b2-84c7-8a44a9979670",
   "metadata": {
    "language": "python",
    "name": "pip_installs",
    "collapsed": true,
    "codeCollapsed": false
   },
   "outputs": [],
   "source": "!pip install shap",
   "execution_count": null
  },
  {
   "cell_type": "code",
   "id": "d78265b8-8baa-4136-a32a-32f3f620949d",
   "metadata": {
    "language": "python",
    "name": "set_version_num",
    "codeCollapsed": false,
    "collapsed": false
   },
   "outputs": [],
   "source": "VERSION_NUM = 'gartner_demo'",
   "execution_count": null
  },
  {
   "cell_type": "code",
   "execution_count": 1,
   "metadata": {
    "name": "imports_and_session",
    "language": "python",
    "collapsed": false,
    "resultHeight": 84,
    "codeCollapsed": false
   },
   "outputs": [],
   "source": "import pandas as pd\nimport numpy as np\nimport sklearn\nimport math\nimport pickle\nimport datetime\nimport shap\n\n# Snowpark ML\nfrom snowflake.ml.modeling.xgboost import XGBRegressor, XGBClassifier\nfrom snowflake.ml._internal.utils import identifier\nfrom snowflake.ml.registry import Registry\n\n#Snowflake feature store\nfrom snowflake.ml.feature_store import FeatureStore, FeatureView, Entity, CreationMode\n\n# Snowpark session\nfrom snowflake.snowpark import DataFrame\nfrom snowflake.snowpark.functions import col, to_timestamp, min, max, month, dayofmonth, dayofweek, dayofyear, avg, median, lag, sum \nfrom snowflake.snowpark.types import IntegerType\nfrom snowflake.snowpark import Window\n\n\n\n\n# We can also use Snowpark for our analyses!\nfrom snowflake.snowpark.context import get_active_session\nsession = get_active_session()\nsession",
   "id": "ce110000-1111-2222-3333-ffffff000000"
  },
  {
   "cell_type": "code",
   "id": "f8900d1d-a1f2-419b-ae7e-b194f268d904",
   "metadata": {
    "language": "python",
    "name": "read_raw_data",
    "resultHeight": 223,
    "collapsed": false,
    "codeCollapsed": false
   },
   "outputs": [],
   "source": "try:\n    print(\"Reading table data...\")\n    df = session.table(\"MORTGAGE_LENDING_DEMO_DATA\")\n    df.show(5)\nexcept:\n    print(\"Table not found! Uploading data to snowflake table\")\n    df_pandas = pd.read_csv(\"MORTGAGE_LENDING_DEMO_DATA.csv.zip\")\n    session.write_pandas(df_pandas, \"MORTGAGE_LENDING_DEMO_DATA\", auto_create_table=True)\n    df = session.table(\"MORTGAGE_LENDING_DEMO_DATA\")\n    df.show(5)",
   "execution_count": null
  },
  {
   "cell_type": "code",
   "id": "a6654de7-6407-4ffe-a214-fd66078397ef",
   "metadata": {
    "language": "python",
    "name": "see_timespan",
    "collapsed": false,
    "resultHeight": 111,
    "codeCollapsed": false
   },
   "outputs": [],
   "source": "df.select(min('TS'), max('TS'))",
   "execution_count": null
  },
  {
   "cell_type": "code",
   "id": "b355c0c4-9dc6-4faf-86b7-24d8d559e453",
   "metadata": {
    "language": "python",
    "name": "define_features",
    "resultHeight": 0,
    "collapsed": false,
    "codeCollapsed": false
   },
   "outputs": [],
   "source": "#Create a dict with keys for feature names and values containing transform code\n\nfeature_eng_dict = dict()\n\n#Timstamp features\nfeature_eng_dict[\"TIMESTAMP\"] = to_timestamp(\"TS\")\nfeature_eng_dict[\"MONTH\"] = month(\"TIMESTAMP\")\nfeature_eng_dict[\"DAY_OF_YEAR\"] = dayofyear(\"TIMESTAMP\") \nfeature_eng_dict[\"DOTW\"] = dayofweek(\"TIMESTAMP\")\n\n# df= df.with_columns(feature_eng_dict.keys(), feature_eng_dict.values())\n\n#Income and loan features\nfeature_eng_dict[\"LOAN_AMOUNT\"] = col(\"LOAN_AMOUNT_000s\")*1000\nfeature_eng_dict[\"INCOME\"] = col(\"APPLICANT_INCOME_000s\")*1000\nfeature_eng_dict[\"INCOME_LOAN_RATIO\"] = col(\"INCOME\")/col(\"LOAN_AMOUNT\")\n\ncounty_window_spec = Window.partition_by(\"COUNTY_NAME\")\nfeature_eng_dict[\"MEDIAN_COUNTY_INCOME\"] = median(\"INCOME\").over(county_window_spec)\nfeature_eng_dict[\"HIGH_INCOME_FLAG\"] = (col(\"INCOME\")>col(\"MEDIAN_COUNTY_INCOME\")).astype(IntegerType())\n\nday_window_spec = Window.order_by(\"DAY_OF_YEAR\").rows_between(-30,0)\nfeature_eng_dict[\"AVG_THIRTY_DAY_LOAN_AMOUNT\"] =  avg(\"LOAN_AMOUNT\").over(day_window_spec)\n\ndf = df.with_columns(feature_eng_dict.keys(), feature_eng_dict.values())\ndf.show(3)",
   "execution_count": null
  },
  {
   "cell_type": "code",
   "id": "b6c4ead8-25ac-46cc-9bd9-17eac2f796d5",
   "metadata": {
    "language": "python",
    "name": "df_explain",
    "resultHeight": 312,
    "collapsed": false,
    "codeCollapsed": false
   },
   "outputs": [],
   "source": "print(df.explain())",
   "execution_count": null
  },
  {
   "cell_type": "code",
   "id": "abacdc71-9f2c-419f-8d50-3e8f89be367f",
   "metadata": {
    "language": "python",
    "name": "define_feature_store",
    "collapsed": false,
    "resultHeight": 0,
    "codeCollapsed": false
   },
   "outputs": [],
   "source": "fs = FeatureStore(\n    session=session, \n    database=session.get_current_database(), \n    name=session.get_current_schema(), \n    default_warehouse=session.get_current_warehouse(),\n    creation_mode=CreationMode.CREATE_IF_NOT_EXIST\n)",
   "execution_count": null
  },
  {
   "cell_type": "code",
   "id": "67480d6a-183f-4373-aaa8-d3ed8e80e11d",
   "metadata": {
    "language": "python",
    "name": "list_entities",
    "resultHeight": 111,
    "collapsed": false,
    "codeCollapsed": false
   },
   "outputs": [],
   "source": "fs.list_entities()",
   "execution_count": null
  },
  {
   "cell_type": "code",
   "id": "e91d6d39-7819-4825-8729-a3f19ca5cdf7",
   "metadata": {
    "language": "python",
    "name": "load_or_register_entity",
    "resultHeight": 38,
    "collapsed": false,
    "codeCollapsed": false
   },
   "outputs": [],
   "source": "#First try to retrieve an existing entity definition, if not define a new one and register\ntry:\n    #retrieve existing entity\n    loan_id_entity = fs.get_entity('LOAN_ENTITY') \n    print('Retrieved existing entity')\nexcept:\n#define new entity\n    loan_id_entity = Entity(\n        name = \"LOAN_ENTITY\",\n        join_keys = [\"LOAN_ID\"],\n        desc = \"Features defined on a per loan level - expanded FE\")\n    #register\n    fs.register_entity(loan_id_entity)\n    print(\"Registered new entity\")",
   "execution_count": null
  },
  {
   "cell_type": "code",
   "id": "2820463f-0ea7-43ea-a500-9b034011887d",
   "metadata": {
    "language": "python",
    "name": "create_feature_df",
    "resultHeight": 217,
    "collapsed": false,
    "codeCollapsed": false
   },
   "outputs": [],
   "source": "#Create a dataframe with just the ID, timestamp, and engineered features. We will use this to define our feature view\nfeature_df = df.select([\"LOAN_ID\"]+list(feature_eng_dict.keys()))\nfeature_df.show(5)",
   "execution_count": null
  },
  {
   "cell_type": "code",
   "id": "e7d90d0a-b709-4269-b86e-c0609c43f17f",
   "metadata": {
    "language": "python",
    "name": "cell1",
    "collapsed": false,
    "codeCollapsed": false
   },
   "outputs": [],
   "source": "feature_df.explain()",
   "execution_count": null
  },
  {
   "cell_type": "code",
   "id": "2b53364f-90c4-45b4-94ee-b2fde6f93475",
   "metadata": {
    "language": "python",
    "name": "feature_veiw_creation",
    "collapsed": true,
    "resultHeight": 0,
    "codeCollapsed": false
   },
   "outputs": [],
   "source": "#define and register feature view\nloan_fv = FeatureView(\n    name=\"Mortgage_Feature_View\",\n    entities=[loan_id_entity],\n    feature_df=feature_df,\n    timestamp_col=\"TIMESTAMP\",\n    refresh_freq=\"1 day\")\n\nloan_fv = fs.register_feature_view(loan_fv, version=VERSION_NUM, overwrite=True)",
   "execution_count": null
  },
  {
   "cell_type": "code",
   "id": "18c3225b-b936-4aa7-81f2-27bbaeee1c0f",
   "metadata": {
    "language": "python",
    "name": "show_feature_views",
    "resultHeight": 111,
    "collapsed": false,
    "codeCollapsed": false
   },
   "outputs": [],
   "source": "fs.list_feature_views().limit(3)",
   "execution_count": null
  },
  {
   "cell_type": "code",
   "id": "6c51d30a-ba7c-426b-aa3c-623eb1ff97d1",
   "metadata": {
    "language": "python",
    "name": "cell3",
    "codeCollapsed": false
   },
   "outputs": [],
   "source": "import streamlit as st\n\norg_name = session.sql('SELECT CURRENT_ORGANIZATION_NAME()').collect()[0][0]\naccount_name = session.sql('SELECT CURRENT_ACCOUNT_NAME()').collect()[0][0]\ndb_name = session.sql('SELECT CURRENT_DATABASE()').collect()[0][0]\nschema_name = session.sql('SELECT CURRENT_SCHEMA()').collect()[0][0]\n\nst.write(f'https://app.snowflake.com/{org_name}/{account_name}/#/features/database/{db_name}/store/{schema_name}')",
   "execution_count": null
  },
  {
   "cell_type": "code",
   "id": "535efc80-e4fc-41c5-98eb-5b5450bcf199",
   "metadata": {
    "language": "python",
    "name": "generate_dataset",
    "resultHeight": 0,
    "collapsed": false,
    "codeCollapsed": false
   },
   "outputs": [],
   "source": "ds = fs.generate_dataset(\n    name=f\"MORTGAGE_DATASET_EXTENDED_FEATURES_{VERSION_NUM}\",\n    spine_df=df.select(\"LOAN_ID\", \"TIMESTAMP\", \"LOAN_PURPOSE_NAME\",\"MORTGAGERESPONSE\"), #only need the features used to fetch rest of feature view\n    features=[loan_fv],\n    spine_timestamp_col=\"TIMESTAMP\",\n    spine_label_cols=[\"MORTGAGERESPONSE\"]\n)",
   "execution_count": null
  },
  {
   "cell_type": "code",
   "id": "ecdaa537-3fb9-476c-9153-3236edfdfcb3",
   "metadata": {
    "language": "python",
    "name": "convert_dataset_to_snowpark_and_pandas",
    "resultHeight": 239,
    "collapsed": false,
    "codeCollapsed": false
   },
   "outputs": [],
   "source": "ds_sp = ds.read.to_snowpark_dataframe()\nds_sp.show(5)",
   "execution_count": null
  },
  {
   "cell_type": "code",
   "id": "b5e17036-7a69-4915-b025-49c900aeb46b",
   "metadata": {
    "language": "python",
    "name": "one_hot_encoding",
    "collapsed": false,
    "resultHeight": 360,
    "codeCollapsed": false
   },
   "outputs": [],
   "source": "import snowflake.ml.modeling.preprocessing as snowml\nfrom snowflake.snowpark.types import StringType\n\nOHE_COLS = ds_sp.select([col.name for col in ds_sp.schema if col.datatype ==StringType()]).columns\nOHE_POST_COLS = [i+\"_OHE\" for i in OHE_COLS]\n\n\n# Encode categoricals to numeric columns\nsnowml_ohe = snowml.OneHotEncoder(input_cols=OHE_COLS, output_cols = OHE_COLS, drop_input_cols=True)\nds_sp_ohe = snowml_ohe.fit(ds_sp).transform(ds_sp)\nds_sp_ohe.columns",
   "execution_count": null
  },
  {
   "cell_type": "code",
   "id": "d834f6f3-ce15-405e-8fec-1d1bb5c224a6",
   "metadata": {
    "language": "python",
    "name": "train_test_split",
    "resultHeight": 0,
    "collapsed": false,
    "codeCollapsed": false
   },
   "outputs": [],
   "source": "train, test = ds_sp_ohe.random_split(weights=[0.70, 0.30], seed=0)",
   "execution_count": null
  },
  {
   "cell_type": "code",
   "id": "a8ff103e-5314-4e95-87ba-d784b1102f36",
   "metadata": {
    "language": "python",
    "name": "fill_na",
    "resultHeight": 0,
    "collapsed": false,
    "codeCollapsed": false
   },
   "outputs": [],
   "source": "train = train.fillna(0)\ntest = test.fillna(0)",
   "execution_count": null
  },
  {
   "cell_type": "code",
   "id": "d732b744-e17b-48c3-8c9b-be3ea9527474",
   "metadata": {
    "language": "python",
    "name": "save_temp_tables",
    "collapsed": false,
    "codeCollapsed": false
   },
   "outputs": [],
   "source": "#save train and test data out to temporary snowflake tables\ntrain.write.save_as_table(table_name = \"train_temp\",table_type=\"temporary\")\ntest.write.save_as_table(table_name = \"test_temp\",table_type=\"temporary\")",
   "execution_count": null
  },
  {
   "cell_type": "code",
   "id": "c917df7f-e277-4fbb-abf5-1a4433367e3b",
   "metadata": {
    "language": "python",
    "name": "convert_data_to_pandas",
    "collapsed": false,
    "codeCollapsed": false
   },
   "outputs": [],
   "source": "train_pd = train.to_pandas()\ntest_pd = test.to_pandas()",
   "execution_count": null
  },
  {
   "cell_type": "code",
   "id": "5e4b5fba-b7a8-47ff-aaf6-076b9e78dcaf",
   "metadata": {
    "language": "python",
    "name": "define_model",
    "resultHeight": 0,
    "collapsed": false,
    "codeCollapsed": false
   },
   "outputs": [],
   "source": "from snowflake.ml.modeling.xgboost import XGBClassifier\n\nsnow_xgb_base = XGBClassifier(\n    input_cols=train.drop([\"TIMESTAMP\", \"LOAN_ID\", \"MORTGAGERESPONSE\"]).columns,\n    label_cols=train.select(\"MORTGAGERESPONSE\").columns,\n    output_cols=\"MORTGAGE_PREDICTION\",\n    max_depth=50,\n    n_estimators=3,\n    learning_rate = 0.75,\n    booster = 'gbtree')",
   "execution_count": null
  },
  {
   "cell_type": "code",
   "id": "644f3295-2496-4fd0-ae95-922a78c5b944",
   "metadata": {
    "language": "python",
    "name": "train_base",
    "resultHeight": 1759,
    "collapsed": true,
    "codeCollapsed": false
   },
   "outputs": [],
   "source": "snow_xgb_base.fit(train)",
   "execution_count": null
  },
  {
   "cell_type": "code",
   "id": "0c5ac861-fcf9-47b2-9c11-ec44ee2367e4",
   "metadata": {
    "language": "python",
    "name": "compute_predictions_and_perf_metrics",
    "collapsed": false,
    "codeCollapsed": false
   },
   "outputs": [],
   "source": "from sklearn.metrics import f1_score, precision_score, recall_score\ntrain_preds_base = snow_xgb_base.to_xgboost().predict(train_pd.drop([\"TIMESTAMP\", \"LOAN_ID\", \"MORTGAGERESPONSE\"],axis=1).values)\n\nf1_base_train = f1_score(train_pd.MORTGAGERESPONSE, train_preds_base)\nprecision_base_train = precision_score(train_pd.MORTGAGERESPONSE, train_preds_base)\nrecall_base_train = recall_score(train_pd.MORTGAGERESPONSE, train_preds_base)\n\nprint(f'F1: {f1_base_train} \\nPrecision {precision_base_train} \\nRecall: {recall_base_train}')",
   "execution_count": null
  },
  {
   "cell_type": "code",
   "id": "2afb9342-9191-4d84-bf54-3abe4a4f8f12",
   "metadata": {
    "language": "python",
    "name": "compute_KPI",
    "collapsed": false,
    "codeCollapsed": false
   },
   "outputs": [],
   "source": "#Create a KPI that measures average loan losses per model/data set\n## Compute total loan value for false negatives (loans that were not predicted to be defaults, but were defaulted on)\n## and average over all loans\ndef compute_financial_losses(model, df):\n    data = df.copy()\n    data['prediction'] = model.to_xgboost().predict(data.drop([\"TIMESTAMP\", \"LOAN_ID\", \"MORTGAGERESPONSE\"],axis=1).values)\n    false_positves = data[(data.MORTGAGERESPONSE==0) & (data.prediction==1)]\n    avg_losses = np.around(false_positves.LOAN_AMOUNT.sum()/data.shape[0], 2)\n    avg_losses = f\"${avg_losses}\"\n    return avg_losses\n\n\nbase_train_losses = compute_financial_losses(snow_xgb_base, train_pd)\nbase_test_losses = compute_financial_losses(snow_xgb_base, test_pd)\nprint(f\"Average loss for train set - {base_train_losses}\")\nprint(f\"Average loss for test set - {base_test_losses}\")",
   "execution_count": null
  },
  {
   "cell_type": "markdown",
   "id": "93777778-d2ba-42d5-88c4-a90ba18c5006",
   "metadata": {
    "name": "model_regisry_md",
    "collapsed": false,
    "resultHeight": 74
   },
   "source": "# Model Registry"
  },
  {
   "cell_type": "code",
   "id": "21678e59-deaf-4c2b-b01e-1c59fe31b10a",
   "metadata": {
    "language": "python",
    "name": "define_model_registry",
    "resultHeight": 0,
    "collapsed": false,
    "codeCollapsed": false
   },
   "outputs": [],
   "source": "#Create a snowflake model registry object \nfrom snowflake.ml.registry import Registry\nfrom snowflake.ml._internal.utils import identifier\nfrom snowflake.ml.model import model_signature\n\ndb = identifier._get_unescaped_name(session.get_current_database())\nschema = identifier._get_unescaped_name(session.get_current_schema())\n\n\n# Define model name\nmodel_name = f\"MORTGAGE_LENDING_MLOPS_{VERSION_NUM}\"\n\n# Create a registry to log the model to\nmodel_registry = Registry(session=session, \n                          database_name=db, \n                          schema_name=schema,\n                          options={\"enable_monitoring\": True})",
   "execution_count": null
  },
  {
   "cell_type": "code",
   "id": "be41c3ac-49f0-4fd9-a557-9d8eb633f602",
   "metadata": {
    "language": "python",
    "name": "register_model_version",
    "collapsed": false,
    "resultHeight": 229,
    "codeCollapsed": false
   },
   "outputs": [],
   "source": "#Deploy the base model to the model registry\nbase_version_name = 'XGB_BASE'\n\ntry:\n    mv_base = model_registry.get_model(model_name).version(base_version_name)\n    print(\"Found existing model version!\")\nexcept:\n    print(\"Logging new model version...\")\n    mv_base = model_registry.log_model(\n        model_name=model_name,\n        model=snow_xgb_base, \n        version_name=base_version_name,\n        comment = \"\"\"ML model for predicting loan approval likelihood.\n                    This model was trained using Snowflake ML xgboost classifier.\n                    Hyperparameters used were:\n                    max_depth=50, n_estimators=3, learning_rate = 0.75, algorithm = gbtree.\n                    Special considerations and limitations: None.\n                    \"\"\",\n    )\n    mv_base.set_metric(metric_name=\"Train_F1_Score\", value=f1_base_train)\n    mv_base.set_metric(metric_name=\"Train_Precision_Score\", value=precision_base_train)\n    mv_base.set_metric(metric_name=\"Train_Recall_score\", value=recall_base_train)",
   "execution_count": null
  },
  {
   "cell_type": "code",
   "id": "fb1c0bff-cb2d-44a4-bfbf-90b1ddb0633f",
   "metadata": {
    "language": "sql",
    "name": "create_tag",
    "collapsed": false
   },
   "outputs": [],
   "source": "CREATE OR REPLACE TAG DEV;",
   "execution_count": null
  },
  {
   "cell_type": "code",
   "id": "38830dfb-63fd-4ff5-b9a0-73e1ddc17098",
   "metadata": {
    "language": "python",
    "name": "set_model_tag_and_description",
    "collapsed": false,
    "codeCollapsed": false
   },
   "outputs": [],
   "source": "m = model_registry.get_model(model_name)\nm.set_tag(\"DEV\", base_version_name)\nm.comment = \"Loan approval prediction models.\"",
   "execution_count": null
  },
  {
   "cell_type": "code",
   "id": "ac4e294e-929d-4399-b2bb-d5d2d1dd043e",
   "metadata": {
    "language": "python",
    "name": "show_models",
    "resultHeight": 111,
    "collapsed": false
   },
   "outputs": [],
   "source": "model_registry.show_models()",
   "execution_count": null
  },
  {
   "cell_type": "code",
   "id": "e3dfb281-9751-48a1-a76e-43ffffd9d099",
   "metadata": {
    "language": "python",
    "name": "show_model_versions",
    "resultHeight": 146,
    "collapsed": false,
    "codeCollapsed": false
   },
   "outputs": [],
   "source": "model_registry.get_model(model_name).show_versions()",
   "execution_count": null
  },
  {
   "cell_type": "code",
   "id": "eb1af8a1-7a92-455e-b9a1-8f2c699dfdeb",
   "metadata": {
    "language": "python",
    "name": "print_model_version_and_metrics",
    "resultHeight": 239,
    "collapsed": false
   },
   "outputs": [],
   "source": "print(mv_base)\nprint(mv_base.show_metrics())",
   "execution_count": null
  },
  {
   "cell_type": "code",
   "id": "8ecdf05c-b3b5-4755-bdff-fd187ef07f58",
   "metadata": {
    "language": "python",
    "name": "show_model_functions",
    "resultHeight": 2133,
    "collapsed": false,
    "codeCollapsed": false
   },
   "outputs": [],
   "source": "mv_base.show_functions()",
   "execution_count": null
  },
  {
   "cell_type": "code",
   "id": "bf495261-a8a7-46be-b9c8-3f099268d154",
   "metadata": {
    "language": "python",
    "name": "predict_from_registry",
    "resultHeight": 351,
    "collapsed": false
   },
   "outputs": [],
   "source": "reg_preds = mv_base.run(test, function_name = \"predict\")\nreg_preds.show(10)",
   "execution_count": null
  },
  {
   "cell_type": "code",
   "id": "9ef61447-10e7-4a38-a429-3da3facf9ce7",
   "metadata": {
    "language": "python",
    "name": "compute_test_metrics",
    "collapsed": false
   },
   "outputs": [],
   "source": "preds_pd = reg_preds.select(\"MORTGAGERESPONSE\", \"MORTGAGE_PREDICTION\").to_pandas()\nf1_base_test = f1_score(preds_pd.MORTGAGERESPONSE, preds_pd.MORTGAGE_PREDICTION)\nprecision_base_test = precision_score(preds_pd.MORTGAGERESPONSE, preds_pd.MORTGAGE_PREDICTION)\nrecall_base_test = recall_score(preds_pd.MORTGAGERESPONSE, preds_pd.MORTGAGE_PREDICTION)\n\n#log metrics to model registry model\nmv_base.set_metric(metric_name=\"Test_F1_Score\", value=f1_base_test)\nmv_base.set_metric(metric_name=\"Test_Precision_Score\", value=precision_base_test)\nmv_base.set_metric(metric_name=\"Test_Recall_score\", value=recall_base_test)\n\nprint(f'F1: {f1_base_test} \\nPrecision {precision_base_test} \\nRecall: {recall_base_test}')",
   "execution_count": null
  },
  {
   "cell_type": "markdown",
   "id": "9b477885-35ce-486d-9e86-7d0cc9d48454",
   "metadata": {
    "name": "HPO_MD",
    "collapsed": false
   },
   "source": "# Oh no! Our model's performance seems to have dropped off significantly from training to our test set. \n## This is evidence that our model is overfit - can we fix this with Distributed Hyperparameter Optimization??"
  },
  {
   "cell_type": "code",
   "id": "89d2bafe-e9a2-488c-bf00-9bd9e2499776",
   "metadata": {
    "language": "python",
    "name": "grid_search",
    "collapsed": false,
    "codeCollapsed": false
   },
   "outputs": [],
   "source": "from snowflake.ml.modeling.model_selection.grid_search_cv import GridSearchCV\n\n#Define our hyperparameter grid - skipping max_depth of 100 as that is likely the culprit for overfitting\nhyper_param_grid = dict(\n            max_depth= [10, 50, 100],\n            learning_rate = [0.5, 0.75],\n            n_estimators= [1,5,10]\n    \n        )\n\n#Define the grid search model\ngrid_search_model = GridSearchCV(estimator=XGBClassifier(), \n                   param_grid=hyper_param_grid, \n                   cv=5, \n                   input_cols=train.drop([\"TIMESTAMP\", \"LOAN_ID\", \"MORTGAGERESPONSE\"]).columns,\n                   label_cols=train.select(\"MORTGAGERESPONSE\").columns,\n                   output_cols=\"MORTGAGE_PREDICTION\",\n                   scoring=\"f1\",\n                   refit=True)\n#Train the model\ngrid_search_model.fit(train)\n\n#Print out the best params\ngrid_search_model.to_sklearn().best_params_",
   "execution_count": null
  },
  {
   "cell_type": "code",
   "id": "94b4a6c2-674e-4d02-afdb-8ebf10cffdc4",
   "metadata": {
    "language": "python",
    "name": "compute_train_predictions_and_metrics",
    "collapsed": false
   },
   "outputs": [],
   "source": "#Quick code to rename columns for prediction\nrename_dict = {}\nfor n,i in enumerate(train_pd.columns):\n    rename_dict[i] = train.columns[n]\n\n#Generate predictions\nxgb_opt_preds = grid_search_model.to_sklearn().best_estimator_.predict(train_pd.drop([\"TIMESTAMP\", \"LOAN_ID\", \"MORTGAGERESPONSE\"],axis=1).rename(columns=rename_dict))\n\n#Generate performance metrics\nf1_opt_train = f1_score(train_pd.MORTGAGERESPONSE, xgb_opt_preds)\nprecision_opt_train = precision_score(train_pd.MORTGAGERESPONSE, xgb_opt_preds)\nrecall_opt_train = recall_score(train_pd.MORTGAGERESPONSE, xgb_opt_preds)\n\nprint(f'F1: {f1_opt_train} \\nPrecision {precision_opt_train} \\nRecall: {recall_opt_train}')",
   "execution_count": null
  },
  {
   "cell_type": "code",
   "id": "dee80c48-d521-4b77-8841-54ba35ecd4b6",
   "metadata": {
    "language": "python",
    "name": "compute_test_predictions_and_metrics",
    "collapsed": false
   },
   "outputs": [],
   "source": "#Generate test predictions\nxgb_opt_preds_test = grid_search_model.to_sklearn().best_estimator_.predict(test_pd.drop([\"TIMESTAMP\", \"LOAN_ID\", \"MORTGAGERESPONSE\"],axis=1).rename(columns=rename_dict))\n\n#Generate performance metrics on test data\nf1_opt_test = f1_score(test_pd.MORTGAGERESPONSE, xgb_opt_preds_test)\nprecision_opt_test = precision_score(test_pd.MORTGAGERESPONSE, xgb_opt_preds_test)\nrecall_opt_test = recall_score(test_pd.MORTGAGERESPONSE, xgb_opt_preds_test)\n\nprint(f'F1: {f1_opt_test} \\nPrecision {precision_opt_test} \\nRecall: {recall_opt_test}')",
   "execution_count": null
  },
  {
   "cell_type": "markdown",
   "id": "89a1a670-52e3-4d77-ac3a-db830e22fdcf",
   "metadata": {
    "name": "HPO_performance_reaction",
    "collapsed": false
   },
   "source": "# Here we see the HPO model has a more modest train accuracy than our base model - but the peformance doesn't drop off during testing"
  },
  {
   "cell_type": "code",
   "id": "d501cf7d-4965-4b9f-8b16-edab897d0e18",
   "metadata": {
    "language": "python",
    "name": "log_hpo_model",
    "collapsed": false
   },
   "outputs": [],
   "source": "#Log the optimized model to the model registry\noptimized_version_name = 'XGB_Optimized'\n\ntry:\n    mv_opt = model_registry.get_model(model_name).version(optimized_version_name)\n    print(\"Found existing model version!\")\nexcept:\n    print(\"Logging new model version...\")\n    mv_opt = model_registry.log_model(\n        model_name=model_name,\n        model=grid_search_model, \n        version_name=optimized_version_name,\n        comment = \"\"\"ML model for predicting loan approval likelihood.\n                    This model was optimized using GridSearch Hyper parameter optimization. \n                    It generalizes better on new data than the base model. \n                    Special considerations and limitations: None.\n                    \"\"\",\n    )\n    mv_opt.set_metric(metric_name=\"Train_F1_Score\", value=f1_opt_train)\n    mv_opt.set_metric(metric_name=\"Train_Precision_Score\", value=precision_opt_train)\n    mv_opt.set_metric(metric_name=\"Train_Recall_score\", value=recall_opt_train)\n\n    mv_opt.set_metric(metric_name=\"Test_F1_Score\", value=f1_opt_test)\n    mv_opt.set_metric(metric_name=\"Test_Precision_Score\", value=precision_opt_test)\n    mv_opt.set_metric(metric_name=\"Test_Recall_score\", value=recall_opt_test)",
   "execution_count": null
  },
  {
   "cell_type": "code",
   "id": "c4c028b9-b590-45b4-9884-35ee206bca0d",
   "metadata": {
    "language": "python",
    "name": "inspect_current_default_version",
    "collapsed": false
   },
   "outputs": [],
   "source": "#Here we see the BASE version is our default version\nmodel_registry.get_model(model_name).default",
   "execution_count": null
  },
  {
   "cell_type": "code",
   "id": "04ac97a9-7af4-4331-bb0d-cf6ecc4a77f6",
   "metadata": {
    "language": "python",
    "name": "promote_optimized_version_to_default",
    "collapsed": false
   },
   "outputs": [],
   "source": "#Now we'll set the optimized model to be the default model version going forward\nmodel_registry.get_model(model_name).default = optimized_version_name",
   "execution_count": null
  },
  {
   "cell_type": "code",
   "id": "c04efcee-27e6-4423-b669-849bec7cc8fb",
   "metadata": {
    "language": "python",
    "name": "see_updated_model_versions",
    "collapsed": false
   },
   "outputs": [],
   "source": "#Now we see our optimized version we have now recently promoted to our DEFAULT model version\nmodel_registry.get_model(model_name).default",
   "execution_count": null
  },
  {
   "cell_type": "code",
   "id": "61da377f-1e2d-4f4f-a406-87e8d5001b02",
   "metadata": {
    "language": "sql",
    "name": "create_prod_tag",
    "collapsed": false
   },
   "outputs": [],
   "source": "CREATE OR REPLACE TAG \"PROD\";",
   "execution_count": null
  },
  {
   "cell_type": "code",
   "id": "3b6574a6-8cd0-48b3-b452-92cc27939b9c",
   "metadata": {
    "language": "python",
    "name": "apply_prod_tag",
    "collapsed": false
   },
   "outputs": [],
   "source": "m = model_registry.get_model(model_name)\nm.set_tag(\"PROD\", optimized_version_name)",
   "execution_count": null
  },
  {
   "cell_type": "code",
   "id": "d8b6782a-ff90-4ce2-bee0-f68fe833b360",
   "metadata": {
    "language": "python",
    "name": "KPI_computation",
    "collapsed": false
   },
   "outputs": [],
   "source": "from snowflake import snowpark\nfrom snowflake.snowpark.types import StringType, IntegerType\nfrom snowflake.snowpark.functions import col, to_timestamp, min, max, month, dayofmonth, dayofweek, dayofyear, avg, median, lag, sum \n\n\ndef compute_loan_losses(session: snowpark.Session, table_name: str, modelname: str, modelversion: str) -> str:\n    from snowflake.snowpark.functions import col, sum \n\n    reg = Registry(session=session)\n    m = reg.get_model(model_name)  # Fetch the model using the registry\n    mv = m.version(modelversion)\n    \n    # Read the input table to a dataframe\n    df = session.table(table_name)\n\n    # Perform prediction using the model\n    results = mv.run(df, function_name=\"predict\")  # 'results' is the output DataFrame with predictions\n\n    #Filter results data to false_positives\n    false_positives = results.filter((col(\"MORTGAGERESPONSE\") == 0) & (col(\"MORTGAGE_PREDICTION\") == 1))\n    #compute average losses\n    avg_losses = round(false_positives.select(sum(col(\"LOAN_AMOUNT\"))).collect()[0][0]/df.count(),2)\n    avg_losses = f\"${avg_losses}\"\n\n    #Set metric \n    mv.set_metric(metric_name=f\"avg_loan_losses_{table_name[0:table_name.find('_')]}\", value=avg_losses)\n    return avg_losses\n\n# Register the stored procedure\nsession.sproc.register(\n    func=compute_loan_losses,\n    name=\"compute_loan_losses_sproc\",\n    replace=True,\n    is_permanent=True,\n    stage_location=\"@ML_STAGE\",\n    packages=['snowflake-snowpark-python', 'snowflake-ml-python'],\n    return_type=StringType()\n)",
   "execution_count": null
  },
  {
   "cell_type": "code",
   "id": "98f3c47d-7c90-4993-8a0c-cebea348ca76",
   "metadata": {
    "language": "sql",
    "name": "cell8",
    "collapsed": false
   },
   "outputs": [],
   "source": "SHOW PROCEDURES like '%COMPUTE_LOAN_LOSSES%'",
   "execution_count": null
  },
  {
   "cell_type": "code",
   "id": "3f5cbaf3-1140-4b09-bf8a-a69faa906fc9",
   "metadata": {
    "language": "sql",
    "name": "call_loan_loss_sprocs",
    "collapsed": false
   },
   "outputs": [],
   "source": "CALL compute_loan_losses_sproc('train_temp','{{model_name}}', '{{base_version_name}}');\nCALL compute_loan_losses_sproc('test_temp','{{model_name}}', '{{base_version_name}}');\nCALL compute_loan_losses_sproc('train_temp','{{model_name}}', '{{optimized_version_name}}');\nCALL compute_loan_losses_sproc('test_temp','{{model_name}}', '{{optimized_version_name}}');",
   "execution_count": null
  },
  {
   "cell_type": "code",
   "id": "1abc4c20-75f3-4d59-b63f-52befac6dd7f",
   "metadata": {
    "language": "python",
    "name": "cell7",
    "collapsed": false
   },
   "outputs": [],
   "source": "mv_base.show_metrics()",
   "execution_count": null
  },
  {
   "cell_type": "code",
   "id": "82cf6cbc-2d8a-4e82-8741-1d588c16acc5",
   "metadata": {
    "language": "python",
    "name": "cell2"
   },
   "outputs": [],
   "source": "mv_opt.show_metrics()",
   "execution_count": null
  },
  {
   "cell_type": "markdown",
   "id": "02340bca-51cf-47ba-8321-4881cf551b08",
   "metadata": {
    "name": "cell4",
    "collapsed": false
   },
   "source": "## Explainability"
  },
  {
   "cell_type": "code",
   "id": "914f5cd6-d254-42d4-a0be-9848c9d09d4a",
   "metadata": {
    "language": "python",
    "name": "reg_explain",
    "resultHeight": 0,
    "collapsed": false
   },
   "outputs": [],
   "source": "test_pd_sample=test_pd.rename(columns=rename_dict).sample(n=1000, random_state = 100).reset_index(drop=True)\nshap_pd = mv_base.run(test_pd_sample, function_name=\"explain\")",
   "execution_count": null
  },
  {
   "cell_type": "code",
   "id": "f74e0dcc-a850-474a-b475-f05a77619731",
   "metadata": {
    "language": "python",
    "name": "shap_summary_plot",
    "resultHeight": 571,
    "collapsed": false
   },
   "outputs": [],
   "source": "import shap \njust_input_vals = test_pd_sample.drop([\"LOAN_ID\",\"MORTGAGERESPONSE\", \"TIMESTAMP\"], axis=1)\n\nshap.summary_plot(np.array(shap_pd), just_input_vals, feature_names = just_input_vals.columns)",
   "execution_count": null
  },
  {
   "cell_type": "code",
   "id": "023a9b3c-0fd3-4d6e-b19e-6dcd0bd636f0",
   "metadata": {
    "language": "python",
    "name": "plot_income_explanation",
    "resultHeight": 850,
    "collapsed": false
   },
   "outputs": [],
   "source": "import seaborn as sns\nimport matplotlib.pyplot as plt\n\nall_shap = test_pd_sample.merge(shap_pd, right_index=True, left_index=True, how='outer')\nincome_0_to_200k = all_shap[(all_shap.INCOME>0) & (all_shap.INCOME<200000)]\nsns.scatterplot(data = income_0_to_200k, x =\"INCOME\", y = '\"INCOME_explanation\"', color='darkblue', s=30, alpha=0.75, edgecolor='w',)\nsns.regplot(data = income_0_to_200k, x =\"INCOME\", y = '\"INCOME_explanation\"', scatter=False, color='red', line_kws={\"lw\":2},ci =100, lowess=True)",
   "execution_count": null
  },
  {
   "cell_type": "code",
   "id": "9beba66b-ce06-4ad6-9caf-b38847d691b0",
   "metadata": {
    "language": "python",
    "name": "loan_amount_shap",
    "collapsed": false
   },
   "outputs": [],
   "source": "import seaborn as sns\nimport matplotlib.pyplot as plt\n\nloan_200k_to_2M = all_shap[(all_shap.LOAN_AMOUNT>200000) & (all_shap.LOAN_AMOUNT<1000000)]\nsns.scatterplot(data = loan_200k_to_2M, x =\"LOAN_AMOUNT\", y = '\"LOAN_AMOUNT_explanation\"', color='darkblue', s=30, alpha=0.75, edgecolor='w',)\nsns.regplot(data = loan_200k_to_2M, x =\"LOAN_AMOUNT\", y = '\"LOAN_AMOUNT_explanation\"', scatter=False, color='red', line_kws={\"lw\":2},ci =100, lowess=True)",
   "execution_count": null
  },
  {
   "cell_type": "code",
   "id": "14a03aa9-1f1a-4a4e-809e-b22e438d72aa",
   "metadata": {
    "language": "python",
    "name": "plot_home_purchase_explanation",
    "resultHeight": 851,
    "collapsed": false
   },
   "outputs": [],
   "source": "#Loan types of home purchases are more likely to be approved versus other types of loans\nsns.boxplot(data = all_shap, x ='\"LOAN_PURPOSE_NAME_Home purchase\"', y = '\"LOAN_PURPOSE_NAME_Home purchase_explanation\"',  palette='Set1', width=0.75, linewidth=1, fliersize=2)",
   "execution_count": null
  },
  {
   "cell_type": "markdown",
   "id": "b7c0ba63-75bc-4323-8c6e-27d7b5588785",
   "metadata": {
    "name": "DISTRIBUTED_TRAINING_MD",
    "collapsed": false
   },
   "source": "# Distributed model training\n## For demonstrations sake - below we have an example doing distributed model training\n### Snowflake will set up a ray cluster on all available nodes in your compute pool (CPU or GPU) and execute the distributed training job"
  },
  {
   "cell_type": "code",
   "id": "2459457f-0d5c-4a8e-824f-c2e30b9db827",
   "metadata": {
    "language": "python",
    "name": "Distributed_model_training",
    "collapsed": false,
    "codeCollapsed": false
   },
   "outputs": [],
   "source": "from snowflake.ml.modeling.distributors.xgboost.xgboost_estimator import XGBEstimator, XGBScalingConfig\nfrom snowflake.ml.data.data_connector import DataConnector\ndc = DataConnector.from_dataframe(train)\n\n#Specify Scaling Config \nscaling_config = XGBScalingConfig(use_gpu=True)\n\n#Define distributed xgb estimator\ndist_gpu_xgb = XGBEstimator(\n    params = {\"booster\": \"gbtree\",\n              \"n_estimators\":10,},\n    scaling_config = scaling_config)\n\ndist_gpu_xgb.fit(dc,\n                 input_cols = train.drop([\"TIMESTAMP\", \"LOAN_ID\", \"MORTGAGERESPONSE\"]).columns,\n                 label_col = \"MORTGAGERESPONSE\")",
   "execution_count": null
  },
  {
   "cell_type": "markdown",
   "id": "df7a9ccc-e785-4a82-b9e9-97fd44d5acf2",
   "metadata": {
    "name": "Monitoring_section",
    "collapsed": false,
    "resultHeight": 74
   },
   "source": "# Model Monitoring setup"
  },
  {
   "cell_type": "code",
   "id": "e0751bdd-6c24-4c65-9247-aa90ebc1d376",
   "metadata": {
    "language": "python",
    "name": "create_table_from_test_data",
    "resultHeight": 0,
    "collapsed": false
   },
   "outputs": [],
   "source": "train.write.save_as_table(f\"DEMO_MORTGAGE_LENDING_TRAIN_{VERSION_NUM}\", mode=\"overwrite\")\ntest.write.save_as_table(f\"DEMO_MORTGAGE_LENDING_TEST_{VERSION_NUM}\", mode=\"overwrite\")",
   "execution_count": null
  },
  {
   "cell_type": "code",
   "id": "aabdf2be-87f8-4556-aa42-22e4a70515e1",
   "metadata": {
    "language": "python",
    "name": "create_stage",
    "resultHeight": 111,
    "collapsed": false
   },
   "outputs": [],
   "source": "session.sql(\"CREATE stage IF NOT EXISTS ML_STAGE\").collect()",
   "execution_count": null
  },
  {
   "cell_type": "code",
   "id": "21b2c090-5cc8-4847-982a-fb9b5e427616",
   "metadata": {
    "language": "python",
    "name": "define_sproc",
    "collapsed": false,
    "resultHeight": 495
   },
   "outputs": [],
   "source": "from snowflake import snowpark\nfrom snowflake.ml.registry import Registry\nimport joblib\nimport os\nimport logging\nfrom snowflake.ml.modeling.pipeline import Pipeline\nimport snowflake.ml.modeling.preprocessing as pp\nfrom snowflake.snowpark.types import StringType, IntegerType\nimport snowflake.snowpark.functions as F\n\n\ndef demo_inference_sproc(session: snowpark.Session, table_name: str, modelname: str, modelversion: str) -> str:\n    \n    database=session.get_current_database()\n    schema=session.get_current_schema()\n    reg = Registry(session=session)\n    m = reg.get_model(model_name)  # Fetch the model using the registry\n    mv = m.version(modelversion)\n    \n    input_table_name=table_name\n    pred_col = f'{modelversion}_PREDICTION'\n\n    # Read the input table to a dataframe\n    df = session.table(input_table_name)\n\n    # Perform prediction using the model\n    results = mv.run(df, function_name=\"predict\").select(\"LOAN_ID\",\"MORTGAGE_PREDICTION\").withColumnRenamed(\"MORTGAGE_PREDICTION\", pred_col)  # 'results' is the output DataFrame with predictions\n    # results = results.withColumnRenamed(\"MORTGAGE_PREDICTION\", pred_col)\n    \n    final = df.join(results, on=\"LOAN_ID\", how=\"full\")\n    # Write results back to Snowflake table\n    final.write.save_as_table(table_name, mode='overwrite',enable_schema_evolution=True)\n\n    return \"Success\"\n\n# Register the stored procedure\nsession.sproc.register(\n    func=demo_inference_sproc,\n    name=\"model_inference_sproc\",\n    replace=True,\n    is_permanent=True,\n    stage_location=\"@ML_STAGE\",\n    packages=['joblib', 'snowflake-snowpark-python', 'snowflake-ml-python'],\n    return_type=StringType()\n)\n",
   "execution_count": null
  },
  {
   "cell_type": "code",
   "id": "da45031a-917e-4f6d-a2e4-068879791819",
   "metadata": {
    "language": "sql",
    "name": "gb_tree_train",
    "resultHeight": 111,
    "collapsed": false
   },
   "outputs": [],
   "source": "CALL model_inference_sproc('DEMO_MORTGAGE_LENDING_TRAIN_{{VERSION_NUM}}','{{model_name}}', '{{base_version_name}}');",
   "execution_count": null
  },
  {
   "cell_type": "code",
   "id": "0d18ea05-7d29-43a3-9baa-52509f3bb15e",
   "metadata": {
    "language": "sql",
    "name": "gb_tree_test",
    "collapsed": false,
    "resultHeight": 111,
    "codeCollapsed": false
   },
   "outputs": [],
   "source": "CALL model_inference_sproc('DEMO_MORTGAGE_LENDING_TEST_{{VERSION_NUM}}','{{model_name}}', '{{base_version_name}}');",
   "execution_count": null
  },
  {
   "cell_type": "code",
   "id": "c1d2550b-46c7-4eb7-adaa-64c345711b1e",
   "metadata": {
    "language": "sql",
    "name": "gb_lin_train",
    "collapsed": false,
    "resultHeight": 111,
    "codeCollapsed": false
   },
   "outputs": [],
   "source": "CALL model_inference_sproc('DEMO_MORTGAGE_LENDING_TRAIN_{{VERSION_NUM}}','{{model_name}}', '{{optimized_version_name}}');",
   "execution_count": null
  },
  {
   "cell_type": "code",
   "id": "8245f482-19e9-4961-9cb2-801bf5948d52",
   "metadata": {
    "language": "sql",
    "name": "gb_lin_test",
    "collapsed": false,
    "resultHeight": 111,
    "codeCollapsed": false
   },
   "outputs": [],
   "source": "CALL model_inference_sproc('DEMO_MORTGAGE_LENDING_TEST_{{VERSION_NUM}}','{{model_name}}', '{{optimized_version_name}}');",
   "execution_count": null
  },
  {
   "cell_type": "code",
   "id": "ec05048c-a9d1-4ef9-bf39-5333f3fb56cb",
   "metadata": {
    "language": "sql",
    "name": "see_preds",
    "resultHeight": 251,
    "codeCollapsed": false,
    "collapsed": false
   },
   "outputs": [],
   "source": "select * FROM DEMO_MORTGAGE_LENDING_TRAIN_{{VERSION_NUM}} limit 5",
   "execution_count": null
  },
  {
   "cell_type": "code",
   "id": "38a88ab4-7b22-414c-831d-5da2331e604b",
   "metadata": {
    "language": "python",
    "name": "set_up_monitoring_configs",
    "resultHeight": 0,
    "collapsed": false,
    "codeCollapsed": false
   },
   "outputs": [],
   "source": "# from snowflake.ml.monitoring.entities.model_monitor_config import ModelMonitorConfig, ModelMonitorSourceConfig\n# # snowflake/ml/monitoring/entities/model_monitor_config.py\n\n# # Set up source/baseline table config for base model\n# base_source_config = ModelMonitorSourceConfig(\n#     baseline = \"DEMO_MORTGAGE_LENDING_TRAIN\",\n#     source=\"DEMO_MORTGAGE_LENDING_TEST\",\n#     timestamp_column=\"TIMESTAMP\",\n#     prediction_score_columns=[\"XGB_BASE_PREDICTION\"],\n#     actual_score_columns=[\"MORTGAGERESPONSE\"],\n#     id_columns=[\"LOAN_ID\"]\n# )\n\n# # Set up model config for tree booster\n# base_monitor_config = ModelMonitorConfig(\n#     model_version=mv_base,\n#     model_function_name=\"predict\",\n#     background_compute_warehouse_name=\"ML_WH\"\n# )\n\n# # Set up source/baseline table config for opt model\n# opt_source_config = ModelMonitorSourceConfig(\n#     baseline = \"DEMO_MORTGAGE_LENDING_TRAIN\",\n#     source=\"DEMO_MORTGAGE_LENDING_TEST\",\n#     timestamp_column=\"TIMESTAMP\",\n#     prediction_score_columns=[\"XGB_OPTIMIZED_PREDICTION\"],\n#     actual_score_columns=[\"MORTGAGERESPONSE\"],\n#     id_columns=[\"LOAN_ID\"]\n# )\n\n# # Set up model config for linear booster\n# opt_monitor_config = ModelMonitorConfig(\n#     model_version=mv_opt,\n#     model_function_name=\"predict\",\n#     background_compute_warehouse_name=\"ML_WH\"\n# )",
   "execution_count": null
  },
  {
   "cell_type": "code",
   "id": "5438465c-ae49-4f63-be40-c79118e7fa98",
   "metadata": {
    "language": "python",
    "name": "add_model_monitors",
    "resultHeight": 0,
    "collapsed": false
   },
   "outputs": [],
   "source": "# # Add a new ModelMonitor\n# model_monitor = model_registry.add_monitor(\n#     name=\"GB_TREE_MORTGAGE_LENDING_MODEL_MONITOR\", \n#     source_config=tree_source_config,\n#     model_monitor_config=tree_monitor_config,\n# )\n\n\n# model_monitor = model_registry.add_monitor(\n#     name=\"GB_MORTGAGE_LENDING_MODEL_MONITOR\", \n#     source_config=linear_source_config,\n#     model_monitor_config=linear_monitor_config,\n# )",
   "execution_count": null
  },
  {
   "cell_type": "code",
   "id": "2f6be548-47cb-4a91-92ee-a5f42c41e756",
   "metadata": {
    "language": "sql",
    "name": "create_model_monitor_tree_SQL",
    "resultHeight": 111,
    "collapsed": false
   },
   "outputs": [],
   "source": "CREATE OR REPLACE MODEL MONITOR MORTGAGE_LENDING_BASE_MODEL_MONITOR\nWITH\n    MODEL={{model_name}}\n    VERSION={{base_version_name}}\n    FUNCTION=predict\n    SOURCE=DEMO_MORTGAGE_LENDING_TEST_{{VERSION_NUM}}\n    BASELINE=DEMO_MORTGAGE_LENDING_TRAIN_{{VERSION_NUM}}\n    TIMESTAMP_COLUMN=TIMESTAMP\n    PREDICTION_CLASS_COLUMNS=(XGB_BASE_PREDICTION)  \n    ACTUAL_CLASS_COLUMNS=(MORTGAGERESPONSE)\n    ID_COLUMNS=(LOAN_ID)\n    WAREHOUSE=SMALL\n    REFRESH_INTERVAL='1 min'\n    AGGREGATION_WINDOW='1 day';",
   "execution_count": null
  },
  {
   "cell_type": "code",
   "id": "60965976-f17f-42bc-92ae-e43030bba54e",
   "metadata": {
    "language": "sql",
    "name": "create_model_monitor_linear_SQL",
    "resultHeight": 111,
    "collapsed": false
   },
   "outputs": [],
   "source": "CREATE OR REPLACE MODEL MONITOR MORTGAGE_LENDING_OPTIMIZED_MODEL_MONITOR\nWITH\n    MODEL={{model_name}}\n    VERSION={{optimized_version_name}}\n    FUNCTION=predict\n    SOURCE=DEMO_MORTGAGE_LENDING_TEST_{{VERSION_NUM}}\n    BASELINE=DEMO_MORTGAGE_LENDING_TRAIN_{{VERSION_NUM}}\n    TIMESTAMP_COLUMN=TIMESTAMP\n    PREDICTION_CLASS_COLUMNS=(XGB_OPTIMIZED_PREDICTION)  \n    ACTUAL_CLASS_COLUMNS=(MORTGAGERESPONSE)\n    ID_COLUMNS=(LOAN_ID)\n    WAREHOUSE=SMALL\n    REFRESH_INTERVAL='1 min'\n    AGGREGATION_WINDOW='1 day';",
   "execution_count": null
  },
  {
   "cell_type": "markdown",
   "id": "36b7dece-381c-42c9-af56-b5e85c50e4d5",
   "metadata": {
    "name": "DEBUG_MONITORING_FINDINGS",
    "collapsed": false,
    "resultHeight": 74
   },
   "source": "# Debug Montitoring Findings [WIP]"
  },
  {
   "cell_type": "code",
   "id": "10ac9b54-00c6-4a32-8773-f16f3b4d2ca9",
   "metadata": {
    "language": "python",
    "name": "start_debug",
    "resultHeight": 0,
    "collapsed": false
   },
   "outputs": [],
   "source": "# debug_df = session.table(\"DEMO_MORTGAGE_LENDING_TEST\").to_pandas()\n# low_accuracy_period= debug_df[(debug_df.TIMESTAMP>datetime.datetime(2024,9,1)) & (debug_df.TIMESTAMP<datetime.datetime(2024,9,30))]\n# f1_score(low_accuracy_period.MORTGAGERESPONSE, low_accuracy_period.GB_TREE_PREDICTION)",
   "execution_count": null
  },
  {
   "cell_type": "markdown",
   "id": "7b8f8d88-1ebe-4622-89ca-39bce08473d4",
   "metadata": {
    "name": "SPCS_MD",
    "collapsed": false
   },
   "source": "# SPCS Deployment setup \n## We will now create a container service behind the "
  },
  {
   "cell_type": "code",
   "id": "c416a4d0-a95f-4702-9a61-26b61706eb11",
   "metadata": {
    "language": "python",
    "name": "define_spcs_vars"
   },
   "outputs": [],
   "source": "image_repo_name = \"MORTGAGE_LENDING_IMAGE_REPO_LLM\"\ncp_name = \"MORTGAGE_LENDING_INFERENCE_CP\"\nnum_spcs_nodes = '3'\nspcs_instance_family = 'CPU_X64_L'\nservice_name = 'MORTGAGE_LENDING_PREDICTION_SERVICE'\n\ncurrent_database = session.get_current_database().replace('\"', '')\ncurrent_schema = session.get_current_schema().replace('\"', '')\nextended_image_repo_name = f\"{current_database}.{current_schema}.{image_repo_name}\"\nextended_service_name = f'{current_database}.{current_schema}.{service_name}'",
   "execution_count": null
  },
  {
   "cell_type": "code",
   "id": "448f6702-8fb2-4aac-9e54-a8673c064074",
   "metadata": {
    "language": "python",
    "name": "setup_compute_pool"
   },
   "outputs": [],
   "source": "# session.sql(f\"alter compute pool if exists {cp_name} stop all\").collect()\n# session.sql(f\"drop compute pool if exists {cp_name}\").collect()\n# session.sql(f\"create compute pool {cp_name} min_nodes={num_spcs_nodes} max_nodes={num_spcs_nodes} instance_family={spcs_instance_family} auto_resume=True auto_suspend_secs=300\").collect()\n# session.sql(f\"describe compute pool {cp_name}\").show()",
   "execution_count": null
  },
  {
   "cell_type": "code",
   "id": "8537738c-7e11-42ea-847d-8871ddfe0539",
   "metadata": {
    "language": "python",
    "name": "create_image_repo"
   },
   "outputs": [],
   "source": "# session.sql(f\"create image repository if not exists {extended_image_repo_name}\").collect()",
   "execution_count": null
  },
  {
   "cell_type": "code",
   "id": "df47725b-e9e7-4f93-bdea-9db09794bd95",
   "metadata": {
    "language": "python",
    "name": "spcs_deploy_service",
    "collapsed": true,
    "codeCollapsed": false
   },
   "outputs": [],
   "source": "# mv_opt.create_service(\n#     service_name=extended_service_name,\n#     service_compute_pool=cp_name,\n#     image_repo=extended_image_repo_name,\n#     ingress_enabled=True,\n#     max_instances=int(num_spcs_nodes),\n#     build_external_access_integration=\"ALLOW_ALL_INTEGRATION\"\n# )",
   "execution_count": null
  },
  {
   "cell_type": "code",
   "id": "3f6dcb97-aa8f-467b-a939-63d1d3b70f58",
   "metadata": {
    "language": "python",
    "name": "view_services",
    "collapsed": false
   },
   "outputs": [],
   "source": "mv_container = model_registry.get_model(\"MORTGAGE_LENDING_MLOPS_128\").default\nmv_container.list_services()",
   "execution_count": null
  },
  {
   "cell_type": "code",
   "id": "c5eb9b1a-0741-4e9d-aaf4-2da26c44ffbd",
   "metadata": {
    "language": "python",
    "name": "run_SPCS_inference",
    "collapsed": false
   },
   "outputs": [],
   "source": "# mv_container.run(test, function_name = \"predict\", service_name = \"MORTGAGE_LENDING_PREDICTION_SERVICE\")",
   "execution_count": null
  },
  {
   "cell_type": "code",
   "id": "11af9340-04f7-4279-92d2-08849a85b9f8",
   "metadata": {
    "language": "python",
    "name": "rest_API_data_setup"
   },
   "outputs": [],
   "source": "# feature_columns = [feature.name for feature in mv_opt.show_functions()[1][\"signature\"].inputs]\n# feature_columns\n\n# test.limit(1).select(*feature_columns).show()\n\n# input_features = test.limit(1).select(*feature_columns).to_pandas().values.tolist()[0]\n# data = {\"data\": [[0, *input_features]]}\n# print(data)",
   "execution_count": null
  },
  {
   "cell_type": "markdown",
   "metadata": {
    "jp-MarkdownHeadingCollapsed": true,
    "tags": [],
    "name": "conclusion",
    "resultHeight": 202,
    "collapsed": false
   },
   "source": "## Conclusion\n\n#### 🛠️ Snowflake Feature Store tracks feature definitions and maintains lineage of sources and destinations 🛠️\n#### 🚀 Snowflake Model Registry gives users a secure and flexible framework to deploy track and monitor models 🚀\n#### 🔮 All model versions logged in the Model Registry can be accessed for inference, explainability, lineage tracking, visibility and more 🔮\n",
   "id": "ce110000-1111-2222-3333-ffffff000036"
  }
 ]
}